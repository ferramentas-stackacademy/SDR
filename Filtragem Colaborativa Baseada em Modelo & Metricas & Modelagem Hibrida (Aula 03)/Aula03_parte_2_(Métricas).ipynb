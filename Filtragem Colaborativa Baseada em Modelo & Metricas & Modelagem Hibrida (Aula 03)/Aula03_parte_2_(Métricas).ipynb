{
  "nbformat": 4,
  "nbformat_minor": 0,
  "metadata": {
    "colab": {
      "provenance": []
    },
    "kernelspec": {
      "name": "python3",
      "display_name": "Python 3"
    },
    "language_info": {
      "name": "python"
    }
  },
  "cells": [
    {
      "cell_type": "markdown",
      "source": [
        "## Métricas para modelos de Recomendação\n",
        "\n",
        "As métricas são importantes no uso de modelos de recomendação porque elas ajudam a avaliar e comparar a performance do modelo. Algumas das métricas mais comuns incluem:\n",
        "\n",
        " - Acurácia: mede a proporção de recomendações corretas feitas pelo modelo.\n",
        "\n",
        "- Precisão: mede a proporção de recomendações corretas em relação ao total de recomendações feitas pelo modelo.\n",
        "\n",
        "- Recall: mede a proporção de recomendações corretas em relação ao total de itens relevantes.\n",
        "\n",
        "- F1-score: é uma métrica combinada da precisão e recall.\n",
        "\n",
        "- Medida de cobertura: mede a proporção de itens relevantes que foram recomendados pelo modelo.\n",
        "\n",
        "- Medida de diversidade: mede a variedade de itens diferentes recomendados pelo modelo.\n",
        "\n",
        "- Medida de novidade: mede a proporção de itens recomendados que são novos ou pouco populares.\n",
        "\n",
        "- Medida de serendipidade: mede a probabilidade de um usuário gostar de um item recomendado que ele não esperava.\n",
        "\n",
        "- RMSE: mede o erro quadrático médio entre as recomendações do modelo e os valores reais de avaliação de usuários.\n",
        "\n",
        "Cada um desses métricas é importante para avaliar diferentes aspectos da performance do modelo e ajudar a avaliar quais abordagens são as mais eficazes."
      ],
      "metadata": {
        "id": "8Wg9UAdZkCgl"
      }
    },
    {
      "cell_type": "code",
      "execution_count": null,
      "metadata": {
        "id": "E69qbI78j-r_",
        "colab": {
          "base_uri": "https://localhost:8080/"
        },
        "outputId": "e7e3496a-b3fe-4331-9d4d-3444381b5980"
      },
      "outputs": [
        {
          "output_type": "stream",
          "name": "stdout",
          "text": [
            "\u001b[?25l     \u001b[90m━━━━━━━━━━━━━━━━━━━━━━━━━━━━━━━━━━━━━━━━\u001b[0m \u001b[32m0.0/772.0 KB\u001b[0m \u001b[31m?\u001b[0m eta \u001b[36m-:--:--\u001b[0m\r\u001b[2K     \u001b[91m━━━━━━━━━━━━━\u001b[0m\u001b[91m╸\u001b[0m\u001b[90m━━━━━━━━━━━━━━━━━━━━━━━━━\u001b[0m \u001b[32m276.5/772.0 KB\u001b[0m \u001b[31m8.1 MB/s\u001b[0m eta \u001b[36m0:00:01\u001b[0m\r\u001b[2K     \u001b[91m━━━━━━━━━━━━━━━━━━━━━━━━━━━━━━━━━━━━━\u001b[0m\u001b[91m╸\u001b[0m \u001b[32m768.0/772.0 KB\u001b[0m \u001b[31m15.1 MB/s\u001b[0m eta \u001b[36m0:00:01\u001b[0m\r\u001b[2K     \u001b[90m━━━━━━━━━━━━━━━━━━━━━━━━━━━━━━━━━━━━━━━\u001b[0m \u001b[32m772.0/772.0 KB\u001b[0m \u001b[31m9.3 MB/s\u001b[0m eta \u001b[36m0:00:00\u001b[0m\n",
            "\u001b[?25h  Preparing metadata (setup.py) ... \u001b[?25l\u001b[?25hdone\n",
            "  Building wheel for scikit-surprise (setup.py) ... \u001b[?25l\u001b[?25hdone\n"
          ]
        }
      ],
      "source": [
        "!pip install scikit-surprise -q"
      ]
    },
    {
      "cell_type": "code",
      "source": [
        "!python -m pip uninstall matplotlib -y -q \n",
        "!pip install matplotlib==3.1.3 -q"
      ],
      "metadata": {
        "id": "D2T2dSPra5An",
        "colab": {
          "base_uri": "https://localhost:8080/"
        },
        "outputId": "ebdd4cec-5975-4c6b-c6e1-55b5e0da441f"
      },
      "execution_count": null,
      "outputs": [
        {
          "output_type": "stream",
          "name": "stdout",
          "text": [
            "\u001b[31mERROR: pip's dependency resolver does not currently take into account all the packages that are installed. This behaviour is the source of the following dependency conflicts.\n",
            "recmetrics 0.1.5 requires matplotlib<4.0.0,>=3.3.2, but you have matplotlib 3.1.3 which is incompatible.\u001b[0m\u001b[31m\n",
            "\u001b[0m"
          ]
        }
      ]
    },
    {
      "cell_type": "code",
      "source": [
        "!pip install recmetrics -q"
      ],
      "metadata": {
        "id": "yWWHCE0RWjuT",
        "colab": {
          "base_uri": "https://localhost:8080/"
        },
        "outputId": "e9e8fb19-e8b2-472c-e251-a6452c17ced5"
      },
      "execution_count": null,
      "outputs": [
        {
          "output_type": "stream",
          "name": "stdout",
          "text": [
            "\u001b[2K     \u001b[90m━━━━━━━━━━━━━━━━━━━━━━━━━━━━━━━━━━━━━━\u001b[0m \u001b[32m793.8/793.8 KB\u001b[0m \u001b[31m12.1 MB/s\u001b[0m eta \u001b[36m0:00:00\u001b[0m\n",
            "\u001b[2K     \u001b[90m━━━━━━━━━━━━━━━━━━━━━━━━━━━━━━━━━━━━━━━━\u001b[0m \u001b[32m13.2/13.2 MB\u001b[0m \u001b[31m66.5 MB/s\u001b[0m eta \u001b[36m0:00:00\u001b[0m\n",
            "\u001b[2K     \u001b[90m━━━━━━━━━━━━━━━━━━━━━━━━━━━━━━━━━━━━━━━━\u001b[0m \u001b[32m9.4/9.4 MB\u001b[0m \u001b[31m58.2 MB/s\u001b[0m eta \u001b[36m0:00:00\u001b[0m\n",
            "\u001b[2K     \u001b[90m━━━━━━━━━━━━━━━━━━━━━━━━━━━━━━━━━━━━━━━━\u001b[0m \u001b[32m1.6/1.6 MB\u001b[0m \u001b[31m60.1 MB/s\u001b[0m eta \u001b[36m0:00:00\u001b[0m\n",
            "\u001b[2K     \u001b[90m━━━━━━━━━━━━━━━━━━━━━━━━━━━━━━━━━━━━━━━\u001b[0m \u001b[32m121.0/121.0 KB\u001b[0m \u001b[31m4.0 MB/s\u001b[0m eta \u001b[36m0:00:00\u001b[0m\n",
            "\u001b[2K     \u001b[90m━━━━━━━━━━━━━━━━━━━━━━━━━━━━━━━━━━━━━━\u001b[0m \u001b[32m965.4/965.4 KB\u001b[0m \u001b[31m42.6 MB/s\u001b[0m eta \u001b[36m0:00:00\u001b[0m\n",
            "\u001b[2K     \u001b[90m━━━━━━━━━━━━━━━━━━━━━━━━━━━━━━━━━━━━━━\u001b[0m \u001b[32m300.0/300.0 KB\u001b[0m \u001b[31m24.8 MB/s\u001b[0m eta \u001b[36m0:00:00\u001b[0m\n",
            "\u001b[2K     \u001b[90m━━━━━━━━━━━━━━━━━━━━━━━━━━━━━━━━━━━━━━\u001b[0m \u001b[32m317.1/317.1 KB\u001b[0m \u001b[31m15.8 MB/s\u001b[0m eta \u001b[36m0:00:00\u001b[0m\n",
            "\u001b[2K     \u001b[90m━━━━━━━━━━━━━━━━━━━━━━━━━━━━━━━━━━━━━━\u001b[0m \u001b[32m227.8/227.8 KB\u001b[0m \u001b[31m19.3 MB/s\u001b[0m eta \u001b[36m0:00:00\u001b[0m\n",
            "\u001b[2K     \u001b[90m━━━━━━━━━━━━━━━━━━━━━━━━━━━━━━━━━━━━━━\u001b[0m \u001b[32m140.6/140.6 KB\u001b[0m \u001b[31m13.1 MB/s\u001b[0m eta \u001b[36m0:00:00\u001b[0m\n",
            "\u001b[2K     \u001b[90m━━━━━━━━━━━━━━━━━━━━━━━━━━━━━━━━━━━━━━\u001b[0m \u001b[32m239.0/239.0 KB\u001b[0m \u001b[31m19.0 MB/s\u001b[0m eta \u001b[36m0:00:00\u001b[0m\n",
            "\u001b[2K     \u001b[90m━━━━━━━━━━━━━━━━━━━━━━━━━━━━━━━━━━━━━━━━\u001b[0m \u001b[32m54.5/54.5 KB\u001b[0m \u001b[31m2.7 MB/s\u001b[0m eta \u001b[36m0:00:00\u001b[0m\n",
            "\u001b[2K     \u001b[90m━━━━━━━━━━━━━━━━━━━━━━━━━━━━━━━━━━━━━━━━\u001b[0m \u001b[32m48.4/48.4 KB\u001b[0m \u001b[31m4.5 MB/s\u001b[0m eta \u001b[36m0:00:00\u001b[0m\n",
            "\u001b[2K     \u001b[90m━━━━━━━━━━━━━━━━━━━━━━━━━━━━━━━━━━━━━━━━\u001b[0m \u001b[32m1.1/1.1 MB\u001b[0m \u001b[31m58.4 MB/s\u001b[0m eta \u001b[36m0:00:00\u001b[0m\n",
            "\u001b[2K     \u001b[90m━━━━━━━━━━━━━━━━━━━━━━━━━━━━━━━━━━━━━━━━\u001b[0m \u001b[32m84.5/84.5 KB\u001b[0m \u001b[31m9.5 MB/s\u001b[0m eta \u001b[36m0:00:00\u001b[0m\n",
            "\u001b[2K     \u001b[90m━━━━━━━━━━━━━━━━━━━━━━━━━━━━━━━━━━━━━━━━\u001b[0m \u001b[32m83.6/83.6 KB\u001b[0m \u001b[31m9.9 MB/s\u001b[0m eta \u001b[36m0:00:00\u001b[0m\n",
            "\u001b[2K     \u001b[90m━━━━━━━━━━━━━━━━━━━━━━━━━━━━━━━━━━━━━━━━\u001b[0m \u001b[32m4.2/4.2 MB\u001b[0m \u001b[31m41.7 MB/s\u001b[0m eta \u001b[36m0:00:00\u001b[0m\n",
            "\u001b[?25h\u001b[31mERROR: pip's dependency resolver does not currently take into account all the packages that are installed. This behaviour is the source of the following dependency conflicts.\n",
            "google-colab 1.0.0 requires ipython~=7.9.0, but you have ipython 7.34.0 which is incompatible.\u001b[0m\u001b[31m\n",
            "\u001b[0m"
          ]
        }
      ]
    },
    {
      "cell_type": "code",
      "source": [
        "import matplotlib.pyplot as plt\n",
        "import numpy as np\n",
        "import pandas as pd\n",
        "from surprise import SVD, Dataset, Reader\n",
        "from surprise.model_selection import train_test_split\n",
        "import recmetrics"
      ],
      "metadata": {
        "id": "AvxQJSTSW7R6"
      },
      "execution_count": null,
      "outputs": []
    },
    {
      "cell_type": "code",
      "source": [
        "#Importando Dataset\n",
        "ratings = pd.read_csv(\"/content/drive/MyDrive/recomendacao/ratings_small.csv\")"
      ],
      "metadata": {
        "id": "u9QgIqJMXN3q"
      },
      "execution_count": null,
      "outputs": []
    },
    {
      "cell_type": "code",
      "source": [
        "#Limitando o conjunto de ratings\n",
        "ratings = ratings.query(\"rating >=3\")"
      ],
      "metadata": {
        "id": "3vGmB6jOXjgj"
      },
      "execution_count": null,
      "outputs": []
    },
    {
      "cell_type": "code",
      "source": [
        "ratings.reset_index(drop=True, inplace=True)"
      ],
      "metadata": {
        "id": "CB6rKup2Xqme"
      },
      "execution_count": null,
      "outputs": []
    },
    {
      "cell_type": "code",
      "source": [
        "#Iremos apenas considerar avaliações de usuários que avaliaram uma certa quantidade de Filmes\n",
        "n=50\n",
        "users = ratings[\"userId\"].value_counts()\n",
        "users = users[users>n].index.tolist()"
      ],
      "metadata": {
        "id": "9nEIz26CXuiV"
      },
      "execution_count": null,
      "outputs": []
    },
    {
      "cell_type": "code",
      "source": [
        "#Iremos passar apenas os usuários que filtramos acima\n",
        "ratings = ratings.query('userId in @users')"
      ],
      "metadata": {
        "id": "AViCRiXIX6yI"
      },
      "execution_count": null,
      "outputs": []
    },
    {
      "cell_type": "code",
      "source": [
        "ratings.head()"
      ],
      "metadata": {
        "id": "5odNvAH6YBnS",
        "colab": {
          "base_uri": "https://localhost:8080/",
          "height": 206
        },
        "outputId": "84fef1ff-5abe-4025-c178-c41a9f565e82"
      },
      "execution_count": null,
      "outputs": [
        {
          "output_type": "execute_result",
          "data": {
            "text/plain": [
              "   userId  movieId  rating  timestamp\n",
              "0       1        1     4.0  964982703\n",
              "1       1        3     4.0  964981247\n",
              "2       1        6     4.0  964982224\n",
              "3       1       47     5.0  964983815\n",
              "4       1       50     5.0  964982931"
            ],
            "text/html": [
              "\n",
              "  <div id=\"df-2ab9ad5a-ab7d-4440-8a5e-f26007ad4c48\">\n",
              "    <div class=\"colab-df-container\">\n",
              "      <div>\n",
              "<style scoped>\n",
              "    .dataframe tbody tr th:only-of-type {\n",
              "        vertical-align: middle;\n",
              "    }\n",
              "\n",
              "    .dataframe tbody tr th {\n",
              "        vertical-align: top;\n",
              "    }\n",
              "\n",
              "    .dataframe thead th {\n",
              "        text-align: right;\n",
              "    }\n",
              "</style>\n",
              "<table border=\"1\" class=\"dataframe\">\n",
              "  <thead>\n",
              "    <tr style=\"text-align: right;\">\n",
              "      <th></th>\n",
              "      <th>userId</th>\n",
              "      <th>movieId</th>\n",
              "      <th>rating</th>\n",
              "      <th>timestamp</th>\n",
              "    </tr>\n",
              "  </thead>\n",
              "  <tbody>\n",
              "    <tr>\n",
              "      <th>0</th>\n",
              "      <td>1</td>\n",
              "      <td>1</td>\n",
              "      <td>4.0</td>\n",
              "      <td>964982703</td>\n",
              "    </tr>\n",
              "    <tr>\n",
              "      <th>1</th>\n",
              "      <td>1</td>\n",
              "      <td>3</td>\n",
              "      <td>4.0</td>\n",
              "      <td>964981247</td>\n",
              "    </tr>\n",
              "    <tr>\n",
              "      <th>2</th>\n",
              "      <td>1</td>\n",
              "      <td>6</td>\n",
              "      <td>4.0</td>\n",
              "      <td>964982224</td>\n",
              "    </tr>\n",
              "    <tr>\n",
              "      <th>3</th>\n",
              "      <td>1</td>\n",
              "      <td>47</td>\n",
              "      <td>5.0</td>\n",
              "      <td>964983815</td>\n",
              "    </tr>\n",
              "    <tr>\n",
              "      <th>4</th>\n",
              "      <td>1</td>\n",
              "      <td>50</td>\n",
              "      <td>5.0</td>\n",
              "      <td>964982931</td>\n",
              "    </tr>\n",
              "  </tbody>\n",
              "</table>\n",
              "</div>\n",
              "      <button class=\"colab-df-convert\" onclick=\"convertToInteractive('df-2ab9ad5a-ab7d-4440-8a5e-f26007ad4c48')\"\n",
              "              title=\"Convert this dataframe to an interactive table.\"\n",
              "              style=\"display:none;\">\n",
              "        \n",
              "  <svg xmlns=\"http://www.w3.org/2000/svg\" height=\"24px\"viewBox=\"0 0 24 24\"\n",
              "       width=\"24px\">\n",
              "    <path d=\"M0 0h24v24H0V0z\" fill=\"none\"/>\n",
              "    <path d=\"M18.56 5.44l.94 2.06.94-2.06 2.06-.94-2.06-.94-.94-2.06-.94 2.06-2.06.94zm-11 1L8.5 8.5l.94-2.06 2.06-.94-2.06-.94L8.5 2.5l-.94 2.06-2.06.94zm10 10l.94 2.06.94-2.06 2.06-.94-2.06-.94-.94-2.06-.94 2.06-2.06.94z\"/><path d=\"M17.41 7.96l-1.37-1.37c-.4-.4-.92-.59-1.43-.59-.52 0-1.04.2-1.43.59L10.3 9.45l-7.72 7.72c-.78.78-.78 2.05 0 2.83L4 21.41c.39.39.9.59 1.41.59.51 0 1.02-.2 1.41-.59l7.78-7.78 2.81-2.81c.8-.78.8-2.07 0-2.86zM5.41 20L4 18.59l7.72-7.72 1.47 1.35L5.41 20z\"/>\n",
              "  </svg>\n",
              "      </button>\n",
              "      \n",
              "  <style>\n",
              "    .colab-df-container {\n",
              "      display:flex;\n",
              "      flex-wrap:wrap;\n",
              "      gap: 12px;\n",
              "    }\n",
              "\n",
              "    .colab-df-convert {\n",
              "      background-color: #E8F0FE;\n",
              "      border: none;\n",
              "      border-radius: 50%;\n",
              "      cursor: pointer;\n",
              "      display: none;\n",
              "      fill: #1967D2;\n",
              "      height: 32px;\n",
              "      padding: 0 0 0 0;\n",
              "      width: 32px;\n",
              "    }\n",
              "\n",
              "    .colab-df-convert:hover {\n",
              "      background-color: #E2EBFA;\n",
              "      box-shadow: 0px 1px 2px rgba(60, 64, 67, 0.3), 0px 1px 3px 1px rgba(60, 64, 67, 0.15);\n",
              "      fill: #174EA6;\n",
              "    }\n",
              "\n",
              "    [theme=dark] .colab-df-convert {\n",
              "      background-color: #3B4455;\n",
              "      fill: #D2E3FC;\n",
              "    }\n",
              "\n",
              "    [theme=dark] .colab-df-convert:hover {\n",
              "      background-color: #434B5C;\n",
              "      box-shadow: 0px 1px 3px 1px rgba(0, 0, 0, 0.15);\n",
              "      filter: drop-shadow(0px 1px 2px rgba(0, 0, 0, 0.3));\n",
              "      fill: #FFFFFF;\n",
              "    }\n",
              "  </style>\n",
              "\n",
              "      <script>\n",
              "        const buttonEl =\n",
              "          document.querySelector('#df-2ab9ad5a-ab7d-4440-8a5e-f26007ad4c48 button.colab-df-convert');\n",
              "        buttonEl.style.display =\n",
              "          google.colab.kernel.accessAllowed ? 'block' : 'none';\n",
              "\n",
              "        async function convertToInteractive(key) {\n",
              "          const element = document.querySelector('#df-2ab9ad5a-ab7d-4440-8a5e-f26007ad4c48');\n",
              "          const dataTable =\n",
              "            await google.colab.kernel.invokeFunction('convertToInteractive',\n",
              "                                                     [key], {});\n",
              "          if (!dataTable) return;\n",
              "\n",
              "          const docLinkHtml = 'Like what you see? Visit the ' +\n",
              "            '<a target=\"_blank\" href=https://colab.research.google.com/notebooks/data_table.ipynb>data table notebook</a>'\n",
              "            + ' to learn more about interactive tables.';\n",
              "          element.innerHTML = '';\n",
              "          dataTable['output_type'] = 'display_data';\n",
              "          await google.colab.output.renderOutput(dataTable, element);\n",
              "          const docLink = document.createElement('div');\n",
              "          docLink.innerHTML = docLinkHtml;\n",
              "          element.appendChild(docLink);\n",
              "        }\n",
              "      </script>\n",
              "    </div>\n",
              "  </div>\n",
              "  "
            ]
          },
          "metadata": {},
          "execution_count": 11
        }
      ]
    },
    {
      "cell_type": "code",
      "source": [
        "ratings.shape"
      ],
      "metadata": {
        "id": "zMR_OA1tYCVI",
        "colab": {
          "base_uri": "https://localhost:8080/"
        },
        "outputId": "b363a045-469f-421f-f647-b57f1a5ed01d"
      },
      "execution_count": null,
      "outputs": [
        {
          "output_type": "execute_result",
          "data": {
            "text/plain": [
              "(93462, 4)"
            ]
          },
          "metadata": {},
          "execution_count": 12
        }
      ]
    },
    {
      "cell_type": "code",
      "source": [
        "fig = plt.figure(figsize=(15, 7))\n",
        "recmetrics.long_tail_plot(df=ratings, \n",
        "             item_id_column=\"movieId\", \n",
        "             interaction_type=\"movie ratings\", \n",
        "             percentage=0.5,\n",
        "             x_labels=False)"
      ],
      "metadata": {
        "id": "ghiHxrihZEK1",
        "colab": {
          "base_uri": "https://localhost:8080/",
          "height": 496
        },
        "outputId": "951bda3e-75ed-4c7d-ddb9-5554f3c890c6"
      },
      "execution_count": null,
      "outputs": [
        {
          "output_type": "stream",
          "name": "stderr",
          "text": [
            "/usr/local/lib/python3.8/dist-packages/seaborn/_decorators.py:36: FutureWarning: Pass the following variable as a keyword arg: x. From version 0.12, the only valid positional argument will be `data`, and passing other arguments without an explicit keyword will result in an error or misinterpretation.\n",
            "  warnings.warn(\n"
          ]
        },
        {
          "output_type": "display_data",
          "data": {
            "text/plain": [
              "<Figure size 1080x504 with 1 Axes>"
            ],
            "image/png": "[encoded data removed]"
          },
          "metadata": {
            "needs_background": "light"
          }
        }
      ]
    },
    {
      "cell_type": "markdown",
      "source": [
        "## Criando um Recomendador de Filtragem Colaborativa\n",
        "\n",
        "A ideia é entender como essas métricas funcionam, para isso, iremos criar um recomendador simples com surprise, apenas para aplicar as métricas."
      ],
      "metadata": {
        "id": "aj8Gx8o9bRVN"
      }
    },
    {
      "cell_type": "code",
      "source": [
        "reader = Reader(rating_scale=(0, 5))\n",
        "data = Dataset.load_from_df(ratings[['userId', 'movieId', 'rating']], reader)\n",
        "trainset, testset = train_test_split(data, test_size=0.25)"
      ],
      "metadata": {
        "id": "Y3fE0q2nbbne"
      },
      "execution_count": null,
      "outputs": []
    },
    {
      "cell_type": "code",
      "source": [
        "algo = SVD()\n",
        "algo.fit(trainset)"
      ],
      "metadata": {
        "id": "HsIWlr9_bgo5",
        "colab": {
          "base_uri": "https://localhost:8080/"
        },
        "outputId": "36c4ff95-dd8b-4bd7-92af-2654e710114b"
      },
      "execution_count": null,
      "outputs": [
        {
          "output_type": "execute_result",
          "data": {
            "text/plain": [
              "<surprise.prediction_algorithms.matrix_factorization.SVD at 0x7ff682353700>"
            ]
          },
          "metadata": {},
          "execution_count": 15
        }
      ]
    },
    {
      "cell_type": "code",
      "source": [
        "test = algo.test(testset)\n",
        "test = pd.DataFrame(test)"
      ],
      "metadata": {
        "id": "pPC-K0nUbhcQ"
      },
      "execution_count": null,
      "outputs": []
    },
    {
      "cell_type": "code",
      "source": [
        "test.head()"
      ],
      "metadata": {
        "id": "bu38RL1EkSxd",
        "colab": {
          "base_uri": "https://localhost:8080/",
          "height": 206
        },
        "outputId": "b1f05779-3944-44ee-b953-b798140abbb8"
      },
      "execution_count": null,
      "outputs": [
        {
          "output_type": "execute_result",
          "data": {
            "text/plain": [
              "   uid   iid  r_ui       est                    details\n",
              "0  288  1665   3.0  2.646950  {'was_impossible': False}\n",
              "1  382  5574   3.5  3.240906  {'was_impossible': False}\n",
              "2  411   158   3.0  2.808526  {'was_impossible': False}\n",
              "3  514  1407   3.0  2.946892  {'was_impossible': False}\n",
              "4  132   539   3.0  3.161155  {'was_impossible': False}"
            ],
            "text/html": [
              "\n",
              "  <div id=\"df-d5229892-99cd-4d52-9da1-cdc79306ee67\">\n",
              "    <div class=\"colab-df-container\">\n",
              "      <div>\n",
              "<style scoped>\n",
              "    .dataframe tbody tr th:only-of-type {\n",
              "        vertical-align: middle;\n",
              "    }\n",
              "\n",
              "    .dataframe tbody tr th {\n",
              "        vertical-align: top;\n",
              "    }\n",
              "\n",
              "    .dataframe thead th {\n",
              "        text-align: right;\n",
              "    }\n",
              "</style>\n",
              "<table border=\"1\" class=\"dataframe\">\n",
              "  <thead>\n",
              "    <tr style=\"text-align: right;\">\n",
              "      <th></th>\n",
              "      <th>uid</th>\n",
              "      <th>iid</th>\n",
              "      <th>r_ui</th>\n",
              "      <th>est</th>\n",
              "      <th>details</th>\n",
              "    </tr>\n",
              "  </thead>\n",
              "  <tbody>\n",
              "    <tr>\n",
              "      <th>0</th>\n",
              "      <td>288</td>\n",
              "      <td>1665</td>\n",
              "      <td>3.0</td>\n",
              "      <td>2.646950</td>\n",
              "      <td>{'was_impossible': False}</td>\n",
              "    </tr>\n",
              "    <tr>\n",
              "      <th>1</th>\n",
              "      <td>382</td>\n",
              "      <td>5574</td>\n",
              "      <td>3.5</td>\n",
              "      <td>3.240906</td>\n",
              "      <td>{'was_impossible': False}</td>\n",
              "    </tr>\n",
              "    <tr>\n",
              "      <th>2</th>\n",
              "      <td>411</td>\n",
              "      <td>158</td>\n",
              "      <td>3.0</td>\n",
              "      <td>2.808526</td>\n",
              "      <td>{'was_impossible': False}</td>\n",
              "    </tr>\n",
              "    <tr>\n",
              "      <th>3</th>\n",
              "      <td>514</td>\n",
              "      <td>1407</td>\n",
              "      <td>3.0</td>\n",
              "      <td>2.946892</td>\n",
              "      <td>{'was_impossible': False}</td>\n",
              "    </tr>\n",
              "    <tr>\n",
              "      <th>4</th>\n",
              "      <td>132</td>\n",
              "      <td>539</td>\n",
              "      <td>3.0</td>\n",
              "      <td>3.161155</td>\n",
              "      <td>{'was_impossible': False}</td>\n",
              "    </tr>\n",
              "  </tbody>\n",
              "</table>\n",
              "</div>\n",
              "      <button class=\"colab-df-convert\" onclick=\"convertToInteractive('df-d5229892-99cd-4d52-9da1-cdc79306ee67')\"\n",
              "              title=\"Convert this dataframe to an interactive table.\"\n",
              "              style=\"display:none;\">\n",
              "        \n",
              "  <svg xmlns=\"http://www.w3.org/2000/svg\" height=\"24px\"viewBox=\"0 0 24 24\"\n",
              "       width=\"24px\">\n",
              "    <path d=\"M0 0h24v24H0V0z\" fill=\"none\"/>\n",
              "    <path d=\"M18.56 5.44l.94 2.06.94-2.06 2.06-.94-2.06-.94-.94-2.06-.94 2.06-2.06.94zm-11 1L8.5 8.5l.94-2.06 2.06-.94-2.06-.94L8.5 2.5l-.94 2.06-2.06.94zm10 10l.94 2.06.94-2.06 2.06-.94-2.06-.94-.94-2.06-.94 2.06-2.06.94z\"/><path d=\"M17.41 7.96l-1.37-1.37c-.4-.4-.92-.59-1.43-.59-.52 0-1.04.2-1.43.59L10.3 9.45l-7.72 7.72c-.78.78-.78 2.05 0 2.83L4 21.41c.39.39.9.59 1.41.59.51 0 1.02-.2 1.41-.59l7.78-7.78 2.81-2.81c.8-.78.8-2.07 0-2.86zM5.41 20L4 18.59l7.72-7.72 1.47 1.35L5.41 20z\"/>\n",
              "  </svg>\n",
              "      </button>\n",
              "      \n",
              "  <style>\n",
              "    .colab-df-container {\n",
              "      display:flex;\n",
              "      flex-wrap:wrap;\n",
              "      gap: 12px;\n",
              "    }\n",
              "\n",
              "    .colab-df-convert {\n",
              "      background-color: #E8F0FE;\n",
              "      border: none;\n",
              "      border-radius: 50%;\n",
              "      cursor: pointer;\n",
              "      display: none;\n",
              "      fill: #1967D2;\n",
              "      height: 32px;\n",
              "      padding: 0 0 0 0;\n",
              "      width: 32px;\n",
              "    }\n",
              "\n",
              "    .colab-df-convert:hover {\n",
              "      background-color: #E2EBFA;\n",
              "      box-shadow: 0px 1px 2px rgba(60, 64, 67, 0.3), 0px 1px 3px 1px rgba(60, 64, 67, 0.15);\n",
              "      fill: #174EA6;\n",
              "    }\n",
              "\n",
              "    [theme=dark] .colab-df-convert {\n",
              "      background-color: #3B4455;\n",
              "      fill: #D2E3FC;\n",
              "    }\n",
              "\n",
              "    [theme=dark] .colab-df-convert:hover {\n",
              "      background-color: #434B5C;\n",
              "      box-shadow: 0px 1px 3px 1px rgba(0, 0, 0, 0.15);\n",
              "      filter: drop-shadow(0px 1px 2px rgba(0, 0, 0, 0.3));\n",
              "      fill: #FFFFFF;\n",
              "    }\n",
              "  </style>\n",
              "\n",
              "      <script>\n",
              "        const buttonEl =\n",
              "          document.querySelector('#df-d5229892-99cd-4d52-9da1-cdc79306ee67 button.colab-df-convert');\n",
              "        buttonEl.style.display =\n",
              "          google.colab.kernel.accessAllowed ? 'block' : 'none';\n",
              "\n",
              "        async function convertToInteractive(key) {\n",
              "          const element = document.querySelector('#df-d5229892-99cd-4d52-9da1-cdc79306ee67');\n",
              "          const dataTable =\n",
              "            await google.colab.kernel.invokeFunction('convertToInteractive',\n",
              "                                                     [key], {});\n",
              "          if (!dataTable) return;\n",
              "\n",
              "          const docLinkHtml = 'Like what you see? Visit the ' +\n",
              "            '<a target=\"_blank\" href=https://colab.research.google.com/notebooks/data_table.ipynb>data table notebook</a>'\n",
              "            + ' to learn more about interactive tables.';\n",
              "          element.innerHTML = '';\n",
              "          dataTable['output_type'] = 'display_data';\n",
              "          await google.colab.output.renderOutput(dataTable, element);\n",
              "          const docLink = document.createElement('div');\n",
              "          docLink.innerHTML = docLinkHtml;\n",
              "          element.appendChild(docLink);\n",
              "        }\n",
              "      </script>\n",
              "    </div>\n",
              "  </div>\n",
              "  "
            ]
          },
          "metadata": {},
          "execution_count": 17
        }
      ]
    },
    {
      "cell_type": "code",
      "source": [
        "test.drop(\"details\", inplace=True, axis=1)\n",
        "test.columns = ['userId', 'movieId', 'actual', 'cf_predictions']\n",
        "test.head()"
      ],
      "metadata": {
        "id": "YYMyKkkTkASv",
        "colab": {
          "base_uri": "https://localhost:8080/",
          "height": 206
        },
        "outputId": "215e3153-f523-422b-fdf8-1d167941dfee"
      },
      "execution_count": null,
      "outputs": [
        {
          "output_type": "execute_result",
          "data": {
            "text/plain": [
              "   userId  movieId  actual  cf_predictions\n",
              "0     288     1665     3.0        2.646950\n",
              "1     382     5574     3.5        3.240906\n",
              "2     411      158     3.0        2.808526\n",
              "3     514     1407     3.0        2.946892\n",
              "4     132      539     3.0        3.161155"
            ],
            "text/html": [
              "\n",
              "  <div id=\"df-7a768ab3-65d7-4cc4-a3fc-5d0699a35171\">\n",
              "    <div class=\"colab-df-container\">\n",
              "      <div>\n",
              "<style scoped>\n",
              "    .dataframe tbody tr th:only-of-type {\n",
              "        vertical-align: middle;\n",
              "    }\n",
              "\n",
              "    .dataframe tbody tr th {\n",
              "        vertical-align: top;\n",
              "    }\n",
              "\n",
              "    .dataframe thead th {\n",
              "        text-align: right;\n",
              "    }\n",
              "</style>\n",
              "<table border=\"1\" class=\"dataframe\">\n",
              "  <thead>\n",
              "    <tr style=\"text-align: right;\">\n",
              "      <th></th>\n",
              "      <th>userId</th>\n",
              "      <th>movieId</th>\n",
              "      <th>actual</th>\n",
              "      <th>cf_predictions</th>\n",
              "    </tr>\n",
              "  </thead>\n",
              "  <tbody>\n",
              "    <tr>\n",
              "      <th>0</th>\n",
              "      <td>288</td>\n",
              "      <td>1665</td>\n",
              "      <td>3.0</td>\n",
              "      <td>2.646950</td>\n",
              "    </tr>\n",
              "    <tr>\n",
              "      <th>1</th>\n",
              "      <td>382</td>\n",
              "      <td>5574</td>\n",
              "      <td>3.5</td>\n",
              "      <td>3.240906</td>\n",
              "    </tr>\n",
              "    <tr>\n",
              "      <th>2</th>\n",
              "      <td>411</td>\n",
              "      <td>158</td>\n",
              "      <td>3.0</td>\n",
              "      <td>2.808526</td>\n",
              "    </tr>\n",
              "    <tr>\n",
              "      <th>3</th>\n",
              "      <td>514</td>\n",
              "      <td>1407</td>\n",
              "      <td>3.0</td>\n",
              "      <td>2.946892</td>\n",
              "    </tr>\n",
              "    <tr>\n",
              "      <th>4</th>\n",
              "      <td>132</td>\n",
              "      <td>539</td>\n",
              "      <td>3.0</td>\n",
              "      <td>3.161155</td>\n",
              "    </tr>\n",
              "  </tbody>\n",
              "</table>\n",
              "</div>\n",
              "      <button class=\"colab-df-convert\" onclick=\"convertToInteractive('df-7a768ab3-65d7-4cc4-a3fc-5d0699a35171')\"\n",
              "              title=\"Convert this dataframe to an interactive table.\"\n",
              "              style=\"display:none;\">\n",
              "        \n",
              "  <svg xmlns=\"http://www.w3.org/2000/svg\" height=\"24px\"viewBox=\"0 0 24 24\"\n",
              "       width=\"24px\">\n",
              "    <path d=\"M0 0h24v24H0V0z\" fill=\"none\"/>\n",
              "    <path d=\"M18.56 5.44l.94 2.06.94-2.06 2.06-.94-2.06-.94-.94-2.06-.94 2.06-2.06.94zm-11 1L8.5 8.5l.94-2.06 2.06-.94-2.06-.94L8.5 2.5l-.94 2.06-2.06.94zm10 10l.94 2.06.94-2.06 2.06-.94-2.06-.94-.94-2.06-.94 2.06-2.06.94z\"/><path d=\"M17.41 7.96l-1.37-1.37c-.4-.4-.92-.59-1.43-.59-.52 0-1.04.2-1.43.59L10.3 9.45l-7.72 7.72c-.78.78-.78 2.05 0 2.83L4 21.41c.39.39.9.59 1.41.59.51 0 1.02-.2 1.41-.59l7.78-7.78 2.81-2.81c.8-.78.8-2.07 0-2.86zM5.41 20L4 18.59l7.72-7.72 1.47 1.35L5.41 20z\"/>\n",
              "  </svg>\n",
              "      </button>\n",
              "      \n",
              "  <style>\n",
              "    .colab-df-container {\n",
              "      display:flex;\n",
              "      flex-wrap:wrap;\n",
              "      gap: 12px;\n",
              "    }\n",
              "\n",
              "    .colab-df-convert {\n",
              "      background-color: #E8F0FE;\n",
              "      border: none;\n",
              "      border-radius: 50%;\n",
              "      cursor: pointer;\n",
              "      display: none;\n",
              "      fill: #1967D2;\n",
              "      height: 32px;\n",
              "      padding: 0 0 0 0;\n",
              "      width: 32px;\n",
              "    }\n",
              "\n",
              "    .colab-df-convert:hover {\n",
              "      background-color: #E2EBFA;\n",
              "      box-shadow: 0px 1px 2px rgba(60, 64, 67, 0.3), 0px 1px 3px 1px rgba(60, 64, 67, 0.15);\n",
              "      fill: #174EA6;\n",
              "    }\n",
              "\n",
              "    [theme=dark] .colab-df-convert {\n",
              "      background-color: #3B4455;\n",
              "      fill: #D2E3FC;\n",
              "    }\n",
              "\n",
              "    [theme=dark] .colab-df-convert:hover {\n",
              "      background-color: #434B5C;\n",
              "      box-shadow: 0px 1px 3px 1px rgba(0, 0, 0, 0.15);\n",
              "      filter: drop-shadow(0px 1px 2px rgba(0, 0, 0, 0.3));\n",
              "      fill: #FFFFFF;\n",
              "    }\n",
              "  </style>\n",
              "\n",
              "      <script>\n",
              "        const buttonEl =\n",
              "          document.querySelector('#df-7a768ab3-65d7-4cc4-a3fc-5d0699a35171 button.colab-df-convert');\n",
              "        buttonEl.style.display =\n",
              "          google.colab.kernel.accessAllowed ? 'block' : 'none';\n",
              "\n",
              "        async function convertToInteractive(key) {\n",
              "          const element = document.querySelector('#df-7a768ab3-65d7-4cc4-a3fc-5d0699a35171');\n",
              "          const dataTable =\n",
              "            await google.colab.kernel.invokeFunction('convertToInteractive',\n",
              "                                                     [key], {});\n",
              "          if (!dataTable) return;\n",
              "\n",
              "          const docLinkHtml = 'Like what you see? Visit the ' +\n",
              "            '<a target=\"_blank\" href=https://colab.research.google.com/notebooks/data_table.ipynb>data table notebook</a>'\n",
              "            + ' to learn more about interactive tables.';\n",
              "          element.innerHTML = '';\n",
              "          dataTable['output_type'] = 'display_data';\n",
              "          await google.colab.output.renderOutput(dataTable, element);\n",
              "          const docLink = document.createElement('div');\n",
              "          docLink.innerHTML = docLinkHtml;\n",
              "          element.appendChild(docLink);\n",
              "        }\n",
              "      </script>\n",
              "    </div>\n",
              "  </div>\n",
              "  "
            ]
          },
          "metadata": {},
          "execution_count": 18
        }
      ]
    },
    {
      "cell_type": "code",
      "source": [
        "#Olhando para RMSE e MSE\n",
        "print(\"MSE: \", recmetrics.mse(test.actual, test.cf_predictions))\n",
        "print(\"RMSE: \", recmetrics.rmse(test.actual, test.cf_predictions))"
      ],
      "metadata": {
        "id": "-HuTBnEdcfQG",
        "colab": {
          "base_uri": "https://localhost:8080/"
        },
        "outputId": "41cdd0ff-dc3b-45c9-ef54-8aa091ed1bc9"
      },
      "execution_count": null,
      "outputs": [
        {
          "output_type": "stream",
          "name": "stdout",
          "text": [
            "MSE:  0.7651289972044488\n",
            "RMSE:  0.8747165239118607\n"
          ]
        }
      ]
    },
    {
      "cell_type": "code",
      "source": [
        "#criar modelo (matriz de valores previstos)\n",
        "cf_model = test.pivot_table(index='userId', columns='movieId', values='cf_predictions').fillna(0)"
      ],
      "metadata": {
        "id": "-upV9Vdgcilx"
      },
      "execution_count": null,
      "outputs": []
    },
    {
      "cell_type": "code",
      "source": [
        "cf_model"
      ],
      "metadata": {
        "id": "-6qE8j-icySl",
        "colab": {
          "base_uri": "https://localhost:8080/",
          "height": 455
        },
        "outputId": "06eeacba-f8d1-4f6d-825b-2f0cdcc34652"
      },
      "execution_count": null,
      "outputs": [
        {
          "output_type": "execute_result",
          "data": {
            "text/plain": [
              "movieId    1         2         3       5       6         7       8       \\\n",
              "userId                                                                    \n",
              "1        0.000000  0.000000  4.348866     0.0     0.0  0.000000     0.0   \n",
              "4        0.000000  0.000000  0.000000     0.0     0.0  0.000000     0.0   \n",
              "6        0.000000  3.370081  0.000000     0.0     0.0  0.000000     0.0   \n",
              "7        0.000000  0.000000  0.000000     0.0     0.0  0.000000     0.0   \n",
              "10       0.000000  0.000000  0.000000     0.0     0.0  0.000000     0.0   \n",
              "...           ...       ...       ...     ...     ...       ...     ...   \n",
              "605      0.000000  0.000000  0.000000     0.0     0.0  0.000000     0.0   \n",
              "606      3.827062  0.000000  0.000000     0.0     0.0  3.218418     0.0   \n",
              "607      0.000000  0.000000  0.000000     0.0     0.0  0.000000     0.0   \n",
              "608      0.000000  0.000000  3.019502     0.0     0.0  0.000000     0.0   \n",
              "610      0.000000  0.000000  0.000000     0.0     0.0  0.000000     0.0   \n",
              "\n",
              "movieId  10        11      12      ...  185029  185033  185435  187593  \\\n",
              "userId                             ...                                   \n",
              "1           0.0  0.000000     0.0  ...     0.0     0.0     0.0     0.0   \n",
              "4           0.0  0.000000     0.0  ...     0.0     0.0     0.0     0.0   \n",
              "6           0.0  0.000000     0.0  ...     0.0     0.0     0.0     0.0   \n",
              "7           0.0  0.000000     0.0  ...     0.0     0.0     0.0     0.0   \n",
              "10          0.0  0.000000     0.0  ...     0.0     0.0     0.0     0.0   \n",
              "...         ...       ...     ...  ...     ...     ...     ...     ...   \n",
              "605         0.0  0.000000     0.0  ...     0.0     0.0     0.0     0.0   \n",
              "606         0.0  0.000000     0.0  ...     0.0     0.0     0.0     0.0   \n",
              "607         0.0  4.127003     0.0  ...     0.0     0.0     0.0     0.0   \n",
              "608         0.0  0.000000     0.0  ...     0.0     0.0     0.0     0.0   \n",
              "610         0.0  0.000000     0.0  ...     0.0     0.0     0.0     0.0   \n",
              "\n",
              "movieId  187595  188833  189333  189381  193579  193585  \n",
              "userId                                                   \n",
              "1           0.0     0.0     0.0     0.0     0.0     0.0  \n",
              "4           0.0     0.0     0.0     0.0     0.0     0.0  \n",
              "6           0.0     0.0     0.0     0.0     0.0     0.0  \n",
              "7           0.0     0.0     0.0     0.0     0.0     0.0  \n",
              "10          0.0     0.0     0.0     0.0     0.0     0.0  \n",
              "...         ...     ...     ...     ...     ...     ...  \n",
              "605         0.0     0.0     0.0     0.0     0.0     0.0  \n",
              "606         0.0     0.0     0.0     0.0     0.0     0.0  \n",
              "607         0.0     0.0     0.0     0.0     0.0     0.0  \n",
              "608         0.0     0.0     0.0     0.0     0.0     0.0  \n",
              "610         0.0     0.0     0.0     0.0     0.0     0.0  \n",
              "\n",
              "[378 rows x 5606 columns]"
            ],
            "text/html": [
              "\n",
              "  <div id=\"df-98c94823-8ed3-4f8a-92ba-91a79d54b9e6\">\n",
              "    <div class=\"colab-df-container\">\n",
              "      <div>\n",
              "<style scoped>\n",
              "    .dataframe tbody tr th:only-of-type {\n",
              "        vertical-align: middle;\n",
              "    }\n",
              "\n",
              "    .dataframe tbody tr th {\n",
              "        vertical-align: top;\n",
              "    }\n",
              "\n",
              "    .dataframe thead th {\n",
              "        text-align: right;\n",
              "    }\n",
              "</style>\n",
              "<table border=\"1\" class=\"dataframe\">\n",
              "  <thead>\n",
              "    <tr style=\"text-align: right;\">\n",
              "      <th>movieId</th>\n",
              "      <th>1</th>\n",
              "      <th>2</th>\n",
              "      <th>3</th>\n",
              "      <th>5</th>\n",
              "      <th>6</th>\n",
              "      <th>7</th>\n",
              "      <th>8</th>\n",
              "      <th>10</th>\n",
              "      <th>11</th>\n",
              "      <th>12</th>\n",
              "      <th>...</th>\n",
              "      <th>185029</th>\n",
              "      <th>185033</th>\n",
              "      <th>185435</th>\n",
              "      <th>187593</th>\n",
              "      <th>187595</th>\n",
              "      <th>188833</th>\n",
              "      <th>189333</th>\n",
              "      <th>189381</th>\n",
              "      <th>193579</th>\n",
              "      <th>193585</th>\n",
              "    </tr>\n",
              "    <tr>\n",
              "      <th>userId</th>\n",
              "      <th></th>\n",
              "      <th></th>\n",
              "      <th></th>\n",
              "      <th></th>\n",
              "      <th></th>\n",
              "      <th></th>\n",
              "      <th></th>\n",
              "      <th></th>\n",
              "      <th></th>\n",
              "      <th></th>\n",
              "      <th></th>\n",
              "      <th></th>\n",
              "      <th></th>\n",
              "      <th></th>\n",
              "      <th></th>\n",
              "      <th></th>\n",
              "      <th></th>\n",
              "      <th></th>\n",
              "      <th></th>\n",
              "      <th></th>\n",
              "      <th></th>\n",
              "    </tr>\n",
              "  </thead>\n",
              "  <tbody>\n",
              "    <tr>\n",
              "      <th>1</th>\n",
              "      <td>0.000000</td>\n",
              "      <td>0.000000</td>\n",
              "      <td>4.348866</td>\n",
              "      <td>0.0</td>\n",
              "      <td>0.0</td>\n",
              "      <td>0.000000</td>\n",
              "      <td>0.0</td>\n",
              "      <td>0.0</td>\n",
              "      <td>0.000000</td>\n",
              "      <td>0.0</td>\n",
              "      <td>...</td>\n",
              "      <td>0.0</td>\n",
              "      <td>0.0</td>\n",
              "      <td>0.0</td>\n",
              "      <td>0.0</td>\n",
              "      <td>0.0</td>\n",
              "      <td>0.0</td>\n",
              "      <td>0.0</td>\n",
              "      <td>0.0</td>\n",
              "      <td>0.0</td>\n",
              "      <td>0.0</td>\n",
              "    </tr>\n",
              "    <tr>\n",
              "      <th>4</th>\n",
              "      <td>0.000000</td>\n",
              "      <td>0.000000</td>\n",
              "      <td>0.000000</td>\n",
              "      <td>0.0</td>\n",
              "      <td>0.0</td>\n",
              "      <td>0.000000</td>\n",
              "      <td>0.0</td>\n",
              "      <td>0.0</td>\n",
              "      <td>0.000000</td>\n",
              "      <td>0.0</td>\n",
              "      <td>...</td>\n",
              "      <td>0.0</td>\n",
              "      <td>0.0</td>\n",
              "      <td>0.0</td>\n",
              "      <td>0.0</td>\n",
              "      <td>0.0</td>\n",
              "      <td>0.0</td>\n",
              "      <td>0.0</td>\n",
              "      <td>0.0</td>\n",
              "      <td>0.0</td>\n",
              "      <td>0.0</td>\n",
              "    </tr>\n",
              "    <tr>\n",
              "      <th>6</th>\n",
              "      <td>0.000000</td>\n",
              "      <td>3.370081</td>\n",
              "      <td>0.000000</td>\n",
              "      <td>0.0</td>\n",
              "      <td>0.0</td>\n",
              "      <td>0.000000</td>\n",
              "      <td>0.0</td>\n",
              "      <td>0.0</td>\n",
              "      <td>0.000000</td>\n",
              "      <td>0.0</td>\n",
              "      <td>...</td>\n",
              "      <td>0.0</td>\n",
              "      <td>0.0</td>\n",
              "      <td>0.0</td>\n",
              "      <td>0.0</td>\n",
              "      <td>0.0</td>\n",
              "      <td>0.0</td>\n",
              "      <td>0.0</td>\n",
              "      <td>0.0</td>\n",
              "      <td>0.0</td>\n",
              "      <td>0.0</td>\n",
              "    </tr>\n",
              "    <tr>\n",
              "      <th>7</th>\n",
              "      <td>0.000000</td>\n",
              "      <td>0.000000</td>\n",
              "      <td>0.000000</td>\n",
              "      <td>0.0</td>\n",
              "      <td>0.0</td>\n",
              "      <td>0.000000</td>\n",
              "      <td>0.0</td>\n",
              "      <td>0.0</td>\n",
              "      <td>0.000000</td>\n",
              "      <td>0.0</td>\n",
              "      <td>...</td>\n",
              "      <td>0.0</td>\n",
              "      <td>0.0</td>\n",
              "      <td>0.0</td>\n",
              "      <td>0.0</td>\n",
              "      <td>0.0</td>\n",
              "      <td>0.0</td>\n",
              "      <td>0.0</td>\n",
              "      <td>0.0</td>\n",
              "      <td>0.0</td>\n",
              "      <td>0.0</td>\n",
              "    </tr>\n",
              "    <tr>\n",
              "      <th>10</th>\n",
              "      <td>0.000000</td>\n",
              "      <td>0.000000</td>\n",
              "      <td>0.000000</td>\n",
              "      <td>0.0</td>\n",
              "      <td>0.0</td>\n",
              "      <td>0.000000</td>\n",
              "      <td>0.0</td>\n",
              "      <td>0.0</td>\n",
              "      <td>0.000000</td>\n",
              "      <td>0.0</td>\n",
              "      <td>...</td>\n",
              "      <td>0.0</td>\n",
              "      <td>0.0</td>\n",
              "      <td>0.0</td>\n",
              "      <td>0.0</td>\n",
              "      <td>0.0</td>\n",
              "      <td>0.0</td>\n",
              "      <td>0.0</td>\n",
              "      <td>0.0</td>\n",
              "      <td>0.0</td>\n",
              "      <td>0.0</td>\n",
              "    </tr>\n",
              "    <tr>\n",
              "      <th>...</th>\n",
              "      <td>...</td>\n",
              "      <td>...</td>\n",
              "      <td>...</td>\n",
              "      <td>...</td>\n",
              "      <td>...</td>\n",
              "      <td>...</td>\n",
              "      <td>...</td>\n",
              "      <td>...</td>\n",
              "      <td>...</td>\n",
              "      <td>...</td>\n",
              "      <td>...</td>\n",
              "      <td>...</td>\n",
              "      <td>...</td>\n",
              "      <td>...</td>\n",
              "      <td>...</td>\n",
              "      <td>...</td>\n",
              "      <td>...</td>\n",
              "      <td>...</td>\n",
              "      <td>...</td>\n",
              "      <td>...</td>\n",
              "      <td>...</td>\n",
              "    </tr>\n",
              "    <tr>\n",
              "      <th>605</th>\n",
              "      <td>0.000000</td>\n",
              "      <td>0.000000</td>\n",
              "      <td>0.000000</td>\n",
              "      <td>0.0</td>\n",
              "      <td>0.0</td>\n",
              "      <td>0.000000</td>\n",
              "      <td>0.0</td>\n",
              "      <td>0.0</td>\n",
              "      <td>0.000000</td>\n",
              "      <td>0.0</td>\n",
              "      <td>...</td>\n",
              "      <td>0.0</td>\n",
              "      <td>0.0</td>\n",
              "      <td>0.0</td>\n",
              "      <td>0.0</td>\n",
              "      <td>0.0</td>\n",
              "      <td>0.0</td>\n",
              "      <td>0.0</td>\n",
              "      <td>0.0</td>\n",
              "      <td>0.0</td>\n",
              "      <td>0.0</td>\n",
              "    </tr>\n",
              "    <tr>\n",
              "      <th>606</th>\n",
              "      <td>3.827062</td>\n",
              "      <td>0.000000</td>\n",
              "      <td>0.000000</td>\n",
              "      <td>0.0</td>\n",
              "      <td>0.0</td>\n",
              "      <td>3.218418</td>\n",
              "      <td>0.0</td>\n",
              "      <td>0.0</td>\n",
              "      <td>0.000000</td>\n",
              "      <td>0.0</td>\n",
              "      <td>...</td>\n",
              "      <td>0.0</td>\n",
              "      <td>0.0</td>\n",
              "      <td>0.0</td>\n",
              "      <td>0.0</td>\n",
              "      <td>0.0</td>\n",
              "      <td>0.0</td>\n",
              "      <td>0.0</td>\n",
              "      <td>0.0</td>\n",
              "      <td>0.0</td>\n",
              "      <td>0.0</td>\n",
              "    </tr>\n",
              "    <tr>\n",
              "      <th>607</th>\n",
              "      <td>0.000000</td>\n",
              "      <td>0.000000</td>\n",
              "      <td>0.000000</td>\n",
              "      <td>0.0</td>\n",
              "      <td>0.0</td>\n",
              "      <td>0.000000</td>\n",
              "      <td>0.0</td>\n",
              "      <td>0.0</td>\n",
              "      <td>4.127003</td>\n",
              "      <td>0.0</td>\n",
              "      <td>...</td>\n",
              "      <td>0.0</td>\n",
              "      <td>0.0</td>\n",
              "      <td>0.0</td>\n",
              "      <td>0.0</td>\n",
              "      <td>0.0</td>\n",
              "      <td>0.0</td>\n",
              "      <td>0.0</td>\n",
              "      <td>0.0</td>\n",
              "      <td>0.0</td>\n",
              "      <td>0.0</td>\n",
              "    </tr>\n",
              "    <tr>\n",
              "      <th>608</th>\n",
              "      <td>0.000000</td>\n",
              "      <td>0.000000</td>\n",
              "      <td>3.019502</td>\n",
              "      <td>0.0</td>\n",
              "      <td>0.0</td>\n",
              "      <td>0.000000</td>\n",
              "      <td>0.0</td>\n",
              "      <td>0.0</td>\n",
              "      <td>0.000000</td>\n",
              "      <td>0.0</td>\n",
              "      <td>...</td>\n",
              "      <td>0.0</td>\n",
              "      <td>0.0</td>\n",
              "      <td>0.0</td>\n",
              "      <td>0.0</td>\n",
              "      <td>0.0</td>\n",
              "      <td>0.0</td>\n",
              "      <td>0.0</td>\n",
              "      <td>0.0</td>\n",
              "      <td>0.0</td>\n",
              "      <td>0.0</td>\n",
              "    </tr>\n",
              "    <tr>\n",
              "      <th>610</th>\n",
              "      <td>0.000000</td>\n",
              "      <td>0.000000</td>\n",
              "      <td>0.000000</td>\n",
              "      <td>0.0</td>\n",
              "      <td>0.0</td>\n",
              "      <td>0.000000</td>\n",
              "      <td>0.0</td>\n",
              "      <td>0.0</td>\n",
              "      <td>0.000000</td>\n",
              "      <td>0.0</td>\n",
              "      <td>...</td>\n",
              "      <td>0.0</td>\n",
              "      <td>0.0</td>\n",
              "      <td>0.0</td>\n",
              "      <td>0.0</td>\n",
              "      <td>0.0</td>\n",
              "      <td>0.0</td>\n",
              "      <td>0.0</td>\n",
              "      <td>0.0</td>\n",
              "      <td>0.0</td>\n",
              "      <td>0.0</td>\n",
              "    </tr>\n",
              "  </tbody>\n",
              "</table>\n",
              "<p>378 rows × 5606 columns</p>\n",
              "</div>\n",
              "      <button class=\"colab-df-convert\" onclick=\"convertToInteractive('df-98c94823-8ed3-4f8a-92ba-91a79d54b9e6')\"\n",
              "              title=\"Convert this dataframe to an interactive table.\"\n",
              "              style=\"display:none;\">\n",
              "        \n",
              "  <svg xmlns=\"http://www.w3.org/2000/svg\" height=\"24px\"viewBox=\"0 0 24 24\"\n",
              "       width=\"24px\">\n",
              "    <path d=\"M0 0h24v24H0V0z\" fill=\"none\"/>\n",
              "    <path d=\"M18.56 5.44l.94 2.06.94-2.06 2.06-.94-2.06-.94-.94-2.06-.94 2.06-2.06.94zm-11 1L8.5 8.5l.94-2.06 2.06-.94-2.06-.94L8.5 2.5l-.94 2.06-2.06.94zm10 10l.94 2.06.94-2.06 2.06-.94-2.06-.94-.94-2.06-.94 2.06-2.06.94z\"/><path d=\"M17.41 7.96l-1.37-1.37c-.4-.4-.92-.59-1.43-.59-.52 0-1.04.2-1.43.59L10.3 9.45l-7.72 7.72c-.78.78-.78 2.05 0 2.83L4 21.41c.39.39.9.59 1.41.59.51 0 1.02-.2 1.41-.59l7.78-7.78 2.81-2.81c.8-.78.8-2.07 0-2.86zM5.41 20L4 18.59l7.72-7.72 1.47 1.35L5.41 20z\"/>\n",
              "  </svg>\n",
              "      </button>\n",
              "      \n",
              "  <style>\n",
              "    .colab-df-container {\n",
              "      display:flex;\n",
              "      flex-wrap:wrap;\n",
              "      gap: 12px;\n",
              "    }\n",
              "\n",
              "    .colab-df-convert {\n",
              "      background-color: #E8F0FE;\n",
              "      border: none;\n",
              "      border-radius: 50%;\n",
              "      cursor: pointer;\n",
              "      display: none;\n",
              "      fill: #1967D2;\n",
              "      height: 32px;\n",
              "      padding: 0 0 0 0;\n",
              "      width: 32px;\n",
              "    }\n",
              "\n",
              "    .colab-df-convert:hover {\n",
              "      background-color: #E2EBFA;\n",
              "      box-shadow: 0px 1px 2px rgba(60, 64, 67, 0.3), 0px 1px 3px 1px rgba(60, 64, 67, 0.15);\n",
              "      fill: #174EA6;\n",
              "    }\n",
              "\n",
              "    [theme=dark] .colab-df-convert {\n",
              "      background-color: #3B4455;\n",
              "      fill: #D2E3FC;\n",
              "    }\n",
              "\n",
              "    [theme=dark] .colab-df-convert:hover {\n",
              "      background-color: #434B5C;\n",
              "      box-shadow: 0px 1px 3px 1px rgba(0, 0, 0, 0.15);\n",
              "      filter: drop-shadow(0px 1px 2px rgba(0, 0, 0, 0.3));\n",
              "      fill: #FFFFFF;\n",
              "    }\n",
              "  </style>\n",
              "\n",
              "      <script>\n",
              "        const buttonEl =\n",
              "          document.querySelector('#df-98c94823-8ed3-4f8a-92ba-91a79d54b9e6 button.colab-df-convert');\n",
              "        buttonEl.style.display =\n",
              "          google.colab.kernel.accessAllowed ? 'block' : 'none';\n",
              "\n",
              "        async function convertToInteractive(key) {\n",
              "          const element = document.querySelector('#df-98c94823-8ed3-4f8a-92ba-91a79d54b9e6');\n",
              "          const dataTable =\n",
              "            await google.colab.kernel.invokeFunction('convertToInteractive',\n",
              "                                                     [key], {});\n",
              "          if (!dataTable) return;\n",
              "\n",
              "          const docLinkHtml = 'Like what you see? Visit the ' +\n",
              "            '<a target=\"_blank\" href=https://colab.research.google.com/notebooks/data_table.ipynb>data table notebook</a>'\n",
              "            + ' to learn more about interactive tables.';\n",
              "          element.innerHTML = '';\n",
              "          dataTable['output_type'] = 'display_data';\n",
              "          await google.colab.output.renderOutput(dataTable, element);\n",
              "          const docLink = document.createElement('div');\n",
              "          docLink.innerHTML = docLinkHtml;\n",
              "          element.appendChild(docLink);\n",
              "        }\n",
              "      </script>\n",
              "    </div>\n",
              "  </div>\n",
              "  "
            ]
          },
          "metadata": {},
          "execution_count": 25
        }
      ]
    },
    {
      "cell_type": "code",
      "source": [
        "def get_users_predictions(user_id, n, model):\n",
        "    recommended_items = pd.DataFrame(model.loc[user_id])\n",
        "    recommended_items.columns = [\"predicted_rating\"]\n",
        "    recommended_items = recommended_items.sort_values('predicted_rating', ascending=False)    \n",
        "    recommended_items = recommended_items.head(n)\n",
        "    return recommended_items.index.tolist()"
      ],
      "metadata": {
        "id": "NJBmhn8rcywF"
      },
      "execution_count": null,
      "outputs": []
    },
    {
      "cell_type": "code",
      "source": [
        "#get example prediction\n",
        "get_users_predictions(4, 10, cf_model)"
      ],
      "metadata": {
        "id": "8FUyrTFndB58",
        "colab": {
          "base_uri": "https://localhost:8080/"
        },
        "outputId": "d1594904-dfbe-48d3-89af-5e783bd25a34"
      },
      "execution_count": null,
      "outputs": [
        {
          "output_type": "execute_result",
          "data": {
            "text/plain": [
              "[296, 902, 2174, 908, 1967, 1704, 4896, 919, 4967, 4144]"
            ]
          },
          "metadata": {},
          "execution_count": 27
        }
      ]
    },
    {
      "cell_type": "code",
      "source": [
        "#iremos criar um dataframe com os itens que o cliente realmente viu\n",
        "test = test.copy().groupby('userId', as_index=False)['movieId'].agg({'actual': (lambda x: list(set(x)))})"
      ],
      "metadata": {
        "id": "dMUyMOHrdLzO"
      },
      "execution_count": null,
      "outputs": []
    },
    {
      "cell_type": "code",
      "source": [
        "test.head()"
      ],
      "metadata": {
        "id": "JpAX3A2IdbIL"
      },
      "execution_count": null,
      "outputs": []
    },
    {
      "cell_type": "code",
      "source": [
        "test = test.set_index(\"userId\")"
      ],
      "metadata": {
        "id": "nl15JYFddi3w"
      },
      "execution_count": null,
      "outputs": []
    },
    {
      "cell_type": "code",
      "source": [
        "# fazer recomendações para todos os membros nos dados de teste\n",
        "#iremos apenas criar uma tabela contendo ambas as listas que vimos acima\n",
        "cf_recs = [] = []\n",
        "for user in test.index:\n",
        "    cf_predictions = get_users_predictions(user, 10, cf_model)\n",
        "    cf_recs.append(cf_predictions)\n",
        "        \n",
        "test['SVD'] = cf_recs\n",
        "test.head()"
      ],
      "metadata": {
        "id": "re9F-vYQdqn4",
        "colab": {
          "base_uri": "https://localhost:8080/",
          "height": 238
        },
        "outputId": "9e762338-c851-4fb1-a180-e0cc73a2ba38"
      },
      "execution_count": null,
      "outputs": [
        {
          "output_type": "execute_result",
          "data": {
            "text/plain": [
              "                                                   actual  \\\n",
              "userId                                                      \n",
              "1       [2048, 1408, 2944, 3, 260, 1920, 1030, 1927, 1...   \n",
              "4       [1025, 898, 1923, 902, 3591, 3079, 1288, 3851,...   \n",
              "6       [2, 258, 515, 765, 265, 140, 270, 15, 16, 271,...   \n",
              "7       [4993, 33794, 4995, 8965, 4874, 6539, 34319, 4...   \n",
              "10      [7169, 4995, 107141, 112006, 8969, 72330, 2959...   \n",
              "\n",
              "                                                      SVD  \n",
              "userId                                                     \n",
              "1       [2571, 110, 2761, 1197, 3578, 260, 1210, 2991,...  \n",
              "4       [296, 902, 2174, 908, 1967, 1704, 4896, 919, 4...  \n",
              "6         [595, 497, 593, 17, 86, 589, 480, 16, 281, 474]  \n",
              "7       [4993, 1208, 33794, 6539, 593, 4995, 2324, 356...  \n",
              "10      [2959, 2762, 2858, 69844, 4995, 107141, 5952, ...  "
            ],
            "text/html": [
              "\n",
              "  <div id=\"df-527e1f17-8296-4e5d-b3a2-aa002664f38c\">\n",
              "    <div class=\"colab-df-container\">\n",
              "      <div>\n",
              "<style scoped>\n",
              "    .dataframe tbody tr th:only-of-type {\n",
              "        vertical-align: middle;\n",
              "    }\n",
              "\n",
              "    .dataframe tbody tr th {\n",
              "        vertical-align: top;\n",
              "    }\n",
              "\n",
              "    .dataframe thead th {\n",
              "        text-align: right;\n",
              "    }\n",
              "</style>\n",
              "<table border=\"1\" class=\"dataframe\">\n",
              "  <thead>\n",
              "    <tr style=\"text-align: right;\">\n",
              "      <th></th>\n",
              "      <th>actual</th>\n",
              "      <th>SVD</th>\n",
              "    </tr>\n",
              "    <tr>\n",
              "      <th>userId</th>\n",
              "      <th></th>\n",
              "      <th></th>\n",
              "    </tr>\n",
              "  </thead>\n",
              "  <tbody>\n",
              "    <tr>\n",
              "      <th>1</th>\n",
              "      <td>[2048, 1408, 2944, 3, 260, 1920, 1030, 1927, 1...</td>\n",
              "      <td>[2571, 110, 2761, 1197, 3578, 260, 1210, 2991,...</td>\n",
              "    </tr>\n",
              "    <tr>\n",
              "      <th>4</th>\n",
              "      <td>[1025, 898, 1923, 902, 3591, 3079, 1288, 3851,...</td>\n",
              "      <td>[296, 902, 2174, 908, 1967, 1704, 4896, 919, 4...</td>\n",
              "    </tr>\n",
              "    <tr>\n",
              "      <th>6</th>\n",
              "      <td>[2, 258, 515, 765, 265, 140, 270, 15, 16, 271,...</td>\n",
              "      <td>[595, 497, 593, 17, 86, 589, 480, 16, 281, 474]</td>\n",
              "    </tr>\n",
              "    <tr>\n",
              "      <th>7</th>\n",
              "      <td>[4993, 33794, 4995, 8965, 4874, 6539, 34319, 4...</td>\n",
              "      <td>[4993, 1208, 33794, 6539, 593, 4995, 2324, 356...</td>\n",
              "    </tr>\n",
              "    <tr>\n",
              "      <th>10</th>\n",
              "      <td>[7169, 4995, 107141, 112006, 8969, 72330, 2959...</td>\n",
              "      <td>[2959, 2762, 2858, 69844, 4995, 107141, 5952, ...</td>\n",
              "    </tr>\n",
              "  </tbody>\n",
              "</table>\n",
              "</div>\n",
              "      <button class=\"colab-df-convert\" onclick=\"convertToInteractive('df-527e1f17-8296-4e5d-b3a2-aa002664f38c')\"\n",
              "              title=\"Convert this dataframe to an interactive table.\"\n",
              "              style=\"display:none;\">\n",
              "        \n",
              "  <svg xmlns=\"http://www.w3.org/2000/svg\" height=\"24px\"viewBox=\"0 0 24 24\"\n",
              "       width=\"24px\">\n",
              "    <path d=\"M0 0h24v24H0V0z\" fill=\"none\"/>\n",
              "    <path d=\"M18.56 5.44l.94 2.06.94-2.06 2.06-.94-2.06-.94-.94-2.06-.94 2.06-2.06.94zm-11 1L8.5 8.5l.94-2.06 2.06-.94-2.06-.94L8.5 2.5l-.94 2.06-2.06.94zm10 10l.94 2.06.94-2.06 2.06-.94-2.06-.94-.94-2.06-.94 2.06-2.06.94z\"/><path d=\"M17.41 7.96l-1.37-1.37c-.4-.4-.92-.59-1.43-.59-.52 0-1.04.2-1.43.59L10.3 9.45l-7.72 7.72c-.78.78-.78 2.05 0 2.83L4 21.41c.39.39.9.59 1.41.59.51 0 1.02-.2 1.41-.59l7.78-7.78 2.81-2.81c.8-.78.8-2.07 0-2.86zM5.41 20L4 18.59l7.72-7.72 1.47 1.35L5.41 20z\"/>\n",
              "  </svg>\n",
              "      </button>\n",
              "      \n",
              "  <style>\n",
              "    .colab-df-container {\n",
              "      display:flex;\n",
              "      flex-wrap:wrap;\n",
              "      gap: 12px;\n",
              "    }\n",
              "\n",
              "    .colab-df-convert {\n",
              "      background-color: #E8F0FE;\n",
              "      border: none;\n",
              "      border-radius: 50%;\n",
              "      cursor: pointer;\n",
              "      display: none;\n",
              "      fill: #1967D2;\n",
              "      height: 32px;\n",
              "      padding: 0 0 0 0;\n",
              "      width: 32px;\n",
              "    }\n",
              "\n",
              "    .colab-df-convert:hover {\n",
              "      background-color: #E2EBFA;\n",
              "      box-shadow: 0px 1px 2px rgba(60, 64, 67, 0.3), 0px 1px 3px 1px rgba(60, 64, 67, 0.15);\n",
              "      fill: #174EA6;\n",
              "    }\n",
              "\n",
              "    [theme=dark] .colab-df-convert {\n",
              "      background-color: #3B4455;\n",
              "      fill: #D2E3FC;\n",
              "    }\n",
              "\n",
              "    [theme=dark] .colab-df-convert:hover {\n",
              "      background-color: #434B5C;\n",
              "      box-shadow: 0px 1px 3px 1px rgba(0, 0, 0, 0.15);\n",
              "      filter: drop-shadow(0px 1px 2px rgba(0, 0, 0, 0.3));\n",
              "      fill: #FFFFFF;\n",
              "    }\n",
              "  </style>\n",
              "\n",
              "      <script>\n",
              "        const buttonEl =\n",
              "          document.querySelector('#df-527e1f17-8296-4e5d-b3a2-aa002664f38c button.colab-df-convert');\n",
              "        buttonEl.style.display =\n",
              "          google.colab.kernel.accessAllowed ? 'block' : 'none';\n",
              "\n",
              "        async function convertToInteractive(key) {\n",
              "          const element = document.querySelector('#df-527e1f17-8296-4e5d-b3a2-aa002664f38c');\n",
              "          const dataTable =\n",
              "            await google.colab.kernel.invokeFunction('convertToInteractive',\n",
              "                                                     [key], {});\n",
              "          if (!dataTable) return;\n",
              "\n",
              "          const docLinkHtml = 'Like what you see? Visit the ' +\n",
              "            '<a target=\"_blank\" href=https://colab.research.google.com/notebooks/data_table.ipynb>data table notebook</a>'\n",
              "            + ' to learn more about interactive tables.';\n",
              "          element.innerHTML = '';\n",
              "          dataTable['output_type'] = 'display_data';\n",
              "          await google.colab.output.renderOutput(dataTable, element);\n",
              "          const docLink = document.createElement('div');\n",
              "          docLink.innerHTML = docLinkHtml;\n",
              "          element.appendChild(docLink);\n",
              "        }\n",
              "      </script>\n",
              "    </div>\n",
              "  </div>\n",
              "  "
            ]
          },
          "metadata": {},
          "execution_count": 30
        }
      ]
    },
    {
      "cell_type": "markdown",
      "source": [
        "## Recomendador por Popularidade\n",
        "\n",
        "Iremos criar uma recomendador que recomenda os itens mais populares e iremos adicionar a nossa tabela de teste"
      ],
      "metadata": {
        "id": "69mY8I-MeIjU"
      }
    },
    {
      "cell_type": "code",
      "source": [
        "#Fazendo recomendação por popularidade para todos os usuários\n",
        "popularity_recs = ratings.movieId.value_counts().head(10).index.tolist()\n",
        "\n",
        "pop_recs = []\n",
        "for user in test.index:\n",
        "    pop_predictions = popularity_recs\n",
        "    pop_recs.append(pop_predictions)\n",
        "        \n",
        "test['pop_predictions'] = pop_recs\n",
        "test.head()"
      ],
      "metadata": {
        "id": "z2EM6C7LeCqT",
        "colab": {
          "base_uri": "https://localhost:8080/",
          "height": 238
        },
        "outputId": "b66b2859-a524-420d-e200-7e719ec08f7f"
      },
      "execution_count": null,
      "outputs": [
        {
          "output_type": "execute_result",
          "data": {
            "text/plain": [
              "                                                   actual  \\\n",
              "userId                                                      \n",
              "1       [2048, 1408, 2944, 3, 260, 1920, 1030, 1927, 1...   \n",
              "4       [1025, 898, 1923, 902, 3591, 3079, 1288, 3851,...   \n",
              "6       [2, 258, 515, 765, 265, 140, 270, 15, 16, 271,...   \n",
              "7       [4993, 33794, 4995, 8965, 4874, 6539, 34319, 4...   \n",
              "10      [7169, 4995, 107141, 112006, 8969, 72330, 2959...   \n",
              "\n",
              "                                                      SVD  \\\n",
              "userId                                                      \n",
              "1       [2571, 110, 2761, 1197, 3578, 260, 1210, 2991,...   \n",
              "4       [296, 902, 2174, 908, 1967, 1704, 4896, 919, 4...   \n",
              "6         [595, 497, 593, 17, 86, 589, 480, 16, 281, 474]   \n",
              "7       [4993, 1208, 33794, 6539, 593, 4995, 2324, 356...   \n",
              "10      [2959, 2762, 2858, 69844, 4995, 107141, 5952, ...   \n",
              "\n",
              "                                          pop_predictions  \n",
              "userId                                                     \n",
              "1       [356, 296, 318, 2571, 593, 260, 480, 1196, 295...  \n",
              "4       [356, 296, 318, 2571, 593, 260, 480, 1196, 295...  \n",
              "6       [356, 296, 318, 2571, 593, 260, 480, 1196, 295...  \n",
              "7       [356, 296, 318, 2571, 593, 260, 480, 1196, 295...  \n",
              "10      [356, 296, 318, 2571, 593, 260, 480, 1196, 295...  "
            ],
            "text/html": [
              "\n",
              "  <div id=\"df-4a744373-4192-49c3-808c-ca8a70439e86\">\n",
              "    <div class=\"colab-df-container\">\n",
              "      <div>\n",
              "<style scoped>\n",
              "    .dataframe tbody tr th:only-of-type {\n",
              "        vertical-align: middle;\n",
              "    }\n",
              "\n",
              "    .dataframe tbody tr th {\n",
              "        vertical-align: top;\n",
              "    }\n",
              "\n",
              "    .dataframe thead th {\n",
              "        text-align: right;\n",
              "    }\n",
              "</style>\n",
              "<table border=\"1\" class=\"dataframe\">\n",
              "  <thead>\n",
              "    <tr style=\"text-align: right;\">\n",
              "      <th></th>\n",
              "      <th>actual</th>\n",
              "      <th>SVD</th>\n",
              "      <th>pop_predictions</th>\n",
              "    </tr>\n",
              "    <tr>\n",
              "      <th>userId</th>\n",
              "      <th></th>\n",
              "      <th></th>\n",
              "      <th></th>\n",
              "    </tr>\n",
              "  </thead>\n",
              "  <tbody>\n",
              "    <tr>\n",
              "      <th>1</th>\n",
              "      <td>[2048, 1408, 2944, 3, 260, 1920, 1030, 1927, 1...</td>\n",
              "      <td>[2571, 110, 2761, 1197, 3578, 260, 1210, 2991,...</td>\n",
              "      <td>[356, 296, 318, 2571, 593, 260, 480, 1196, 295...</td>\n",
              "    </tr>\n",
              "    <tr>\n",
              "      <th>4</th>\n",
              "      <td>[1025, 898, 1923, 902, 3591, 3079, 1288, 3851,...</td>\n",
              "      <td>[296, 902, 2174, 908, 1967, 1704, 4896, 919, 4...</td>\n",
              "      <td>[356, 296, 318, 2571, 593, 260, 480, 1196, 295...</td>\n",
              "    </tr>\n",
              "    <tr>\n",
              "      <th>6</th>\n",
              "      <td>[2, 258, 515, 765, 265, 140, 270, 15, 16, 271,...</td>\n",
              "      <td>[595, 497, 593, 17, 86, 589, 480, 16, 281, 474]</td>\n",
              "      <td>[356, 296, 318, 2571, 593, 260, 480, 1196, 295...</td>\n",
              "    </tr>\n",
              "    <tr>\n",
              "      <th>7</th>\n",
              "      <td>[4993, 33794, 4995, 8965, 4874, 6539, 34319, 4...</td>\n",
              "      <td>[4993, 1208, 33794, 6539, 593, 4995, 2324, 356...</td>\n",
              "      <td>[356, 296, 318, 2571, 593, 260, 480, 1196, 295...</td>\n",
              "    </tr>\n",
              "    <tr>\n",
              "      <th>10</th>\n",
              "      <td>[7169, 4995, 107141, 112006, 8969, 72330, 2959...</td>\n",
              "      <td>[2959, 2762, 2858, 69844, 4995, 107141, 5952, ...</td>\n",
              "      <td>[356, 296, 318, 2571, 593, 260, 480, 1196, 295...</td>\n",
              "    </tr>\n",
              "  </tbody>\n",
              "</table>\n",
              "</div>\n",
              "      <button class=\"colab-df-convert\" onclick=\"convertToInteractive('df-4a744373-4192-49c3-808c-ca8a70439e86')\"\n",
              "              title=\"Convert this dataframe to an interactive table.\"\n",
              "              style=\"display:none;\">\n",
              "        \n",
              "  <svg xmlns=\"http://www.w3.org/2000/svg\" height=\"24px\"viewBox=\"0 0 24 24\"\n",
              "       width=\"24px\">\n",
              "    <path d=\"M0 0h24v24H0V0z\" fill=\"none\"/>\n",
              "    <path d=\"M18.56 5.44l.94 2.06.94-2.06 2.06-.94-2.06-.94-.94-2.06-.94 2.06-2.06.94zm-11 1L8.5 8.5l.94-2.06 2.06-.94-2.06-.94L8.5 2.5l-.94 2.06-2.06.94zm10 10l.94 2.06.94-2.06 2.06-.94-2.06-.94-.94-2.06-.94 2.06-2.06.94z\"/><path d=\"M17.41 7.96l-1.37-1.37c-.4-.4-.92-.59-1.43-.59-.52 0-1.04.2-1.43.59L10.3 9.45l-7.72 7.72c-.78.78-.78 2.05 0 2.83L4 21.41c.39.39.9.59 1.41.59.51 0 1.02-.2 1.41-.59l7.78-7.78 2.81-2.81c.8-.78.8-2.07 0-2.86zM5.41 20L4 18.59l7.72-7.72 1.47 1.35L5.41 20z\"/>\n",
              "  </svg>\n",
              "      </button>\n",
              "      \n",
              "  <style>\n",
              "    .colab-df-container {\n",
              "      display:flex;\n",
              "      flex-wrap:wrap;\n",
              "      gap: 12px;\n",
              "    }\n",
              "\n",
              "    .colab-df-convert {\n",
              "      background-color: #E8F0FE;\n",
              "      border: none;\n",
              "      border-radius: 50%;\n",
              "      cursor: pointer;\n",
              "      display: none;\n",
              "      fill: #1967D2;\n",
              "      height: 32px;\n",
              "      padding: 0 0 0 0;\n",
              "      width: 32px;\n",
              "    }\n",
              "\n",
              "    .colab-df-convert:hover {\n",
              "      background-color: #E2EBFA;\n",
              "      box-shadow: 0px 1px 2px rgba(60, 64, 67, 0.3), 0px 1px 3px 1px rgba(60, 64, 67, 0.15);\n",
              "      fill: #174EA6;\n",
              "    }\n",
              "\n",
              "    [theme=dark] .colab-df-convert {\n",
              "      background-color: #3B4455;\n",
              "      fill: #D2E3FC;\n",
              "    }\n",
              "\n",
              "    [theme=dark] .colab-df-convert:hover {\n",
              "      background-color: #434B5C;\n",
              "      box-shadow: 0px 1px 3px 1px rgba(0, 0, 0, 0.15);\n",
              "      filter: drop-shadow(0px 1px 2px rgba(0, 0, 0, 0.3));\n",
              "      fill: #FFFFFF;\n",
              "    }\n",
              "  </style>\n",
              "\n",
              "      <script>\n",
              "        const buttonEl =\n",
              "          document.querySelector('#df-4a744373-4192-49c3-808c-ca8a70439e86 button.colab-df-convert');\n",
              "        buttonEl.style.display =\n",
              "          google.colab.kernel.accessAllowed ? 'block' : 'none';\n",
              "\n",
              "        async function convertToInteractive(key) {\n",
              "          const element = document.querySelector('#df-4a744373-4192-49c3-808c-ca8a70439e86');\n",
              "          const dataTable =\n",
              "            await google.colab.kernel.invokeFunction('convertToInteractive',\n",
              "                                                     [key], {});\n",
              "          if (!dataTable) return;\n",
              "\n",
              "          const docLinkHtml = 'Like what you see? Visit the ' +\n",
              "            '<a target=\"_blank\" href=https://colab.research.google.com/notebooks/data_table.ipynb>data table notebook</a>'\n",
              "            + ' to learn more about interactive tables.';\n",
              "          element.innerHTML = '';\n",
              "          dataTable['output_type'] = 'display_data';\n",
              "          await google.colab.output.renderOutput(dataTable, element);\n",
              "          const docLink = document.createElement('div');\n",
              "          docLink.innerHTML = docLinkHtml;\n",
              "          element.appendChild(docLink);\n",
              "        }\n",
              "      </script>\n",
              "    </div>\n",
              "  </div>\n",
              "  "
            ]
          },
          "metadata": {},
          "execution_count": 31
        }
      ]
    },
    {
      "cell_type": "markdown",
      "source": [
        "## Recomendação Aleatória\n",
        "\n",
        "riando um recomendador aleatório simples para demonstrar métricas de recomendação em ação. O recomendador aleatório simplesmente recomenda 10 filmes aleatórios para cada usuário."
      ],
      "metadata": {
        "id": "-sxKmH8vejyh"
      }
    },
    {
      "cell_type": "code",
      "source": [
        "ran_recs = []\n",
        "for user in test.index:\n",
        "    random_predictions = ratings.movieId.sample(10).values.tolist()\n",
        "    ran_recs.append(random_predictions)\n",
        "        \n",
        "test['random_predictions'] = ran_recs\n",
        "test.head()"
      ],
      "metadata": {
        "id": "Kj8Cn0aFehD0",
        "colab": {
          "base_uri": "https://localhost:8080/",
          "height": 238
        },
        "outputId": "a8657814-4682-44e7-d54e-b699c6e79be2"
      },
      "execution_count": null,
      "outputs": [
        {
          "output_type": "execute_result",
          "data": {
            "text/plain": [
              "                                                   actual  \\\n",
              "userId                                                      \n",
              "1       [2048, 1408, 2944, 3, 260, 1920, 1030, 1927, 1...   \n",
              "4       [1025, 898, 1923, 902, 3591, 3079, 1288, 3851,...   \n",
              "6       [2, 258, 515, 765, 265, 140, 270, 15, 16, 271,...   \n",
              "7       [4993, 33794, 4995, 8965, 4874, 6539, 34319, 4...   \n",
              "10      [7169, 4995, 107141, 112006, 8969, 72330, 2959...   \n",
              "\n",
              "                                                      SVD  \\\n",
              "userId                                                      \n",
              "1       [2571, 110, 2761, 1197, 3578, 260, 1210, 2991,...   \n",
              "4       [296, 902, 2174, 908, 1967, 1704, 4896, 919, 4...   \n",
              "6         [595, 497, 593, 17, 86, 589, 480, 16, 281, 474]   \n",
              "7       [4993, 1208, 33794, 6539, 593, 4995, 2324, 356...   \n",
              "10      [2959, 2762, 2858, 69844, 4995, 107141, 5952, ...   \n",
              "\n",
              "                                          pop_predictions  \\\n",
              "userId                                                      \n",
              "1       [356, 296, 318, 2571, 593, 260, 480, 1196, 295...   \n",
              "4       [356, 296, 318, 2571, 593, 260, 480, 1196, 295...   \n",
              "6       [356, 296, 318, 2571, 593, 260, 480, 1196, 295...   \n",
              "7       [356, 296, 318, 2571, 593, 260, 480, 1196, 295...   \n",
              "10      [356, 296, 318, 2571, 593, 260, 480, 1196, 295...   \n",
              "\n",
              "                                       random_predictions  \n",
              "userId                                                     \n",
              "1       [62956, 66509, 50872, 99030, 2110, 315, 2167, ...  \n",
              "4       [318, 3386, 5502, 2915, 136800, 2302, 95761, 7...  \n",
              "6       [7147, 1394, 6003, 260, 1270, 704, 4980, 673, ...  \n",
              "7       [4370, 8961, 47610, 81229, 26365, 48304, 4973,...  \n",
              "10      [2915, 7943, 235, 4033, 6934, 40815, 457, 7143...  "
            ],
            "text/html": [
              "\n",
              "  <div id=\"df-839d5361-63b3-4d6d-be80-750ba369e123\">\n",
              "    <div class=\"colab-df-container\">\n",
              "      <div>\n",
              "<style scoped>\n",
              "    .dataframe tbody tr th:only-of-type {\n",
              "        vertical-align: middle;\n",
              "    }\n",
              "\n",
              "    .dataframe tbody tr th {\n",
              "        vertical-align: top;\n",
              "    }\n",
              "\n",
              "    .dataframe thead th {\n",
              "        text-align: right;\n",
              "    }\n",
              "</style>\n",
              "<table border=\"1\" class=\"dataframe\">\n",
              "  <thead>\n",
              "    <tr style=\"text-align: right;\">\n",
              "      <th></th>\n",
              "      <th>actual</th>\n",
              "      <th>SVD</th>\n",
              "      <th>pop_predictions</th>\n",
              "      <th>random_predictions</th>\n",
              "    </tr>\n",
              "    <tr>\n",
              "      <th>userId</th>\n",
              "      <th></th>\n",
              "      <th></th>\n",
              "      <th></th>\n",
              "      <th></th>\n",
              "    </tr>\n",
              "  </thead>\n",
              "  <tbody>\n",
              "    <tr>\n",
              "      <th>1</th>\n",
              "      <td>[2048, 1408, 2944, 3, 260, 1920, 1030, 1927, 1...</td>\n",
              "      <td>[2571, 110, 2761, 1197, 3578, 260, 1210, 2991,...</td>\n",
              "      <td>[356, 296, 318, 2571, 593, 260, 480, 1196, 295...</td>\n",
              "      <td>[62956, 66509, 50872, 99030, 2110, 315, 2167, ...</td>\n",
              "    </tr>\n",
              "    <tr>\n",
              "      <th>4</th>\n",
              "      <td>[1025, 898, 1923, 902, 3591, 3079, 1288, 3851,...</td>\n",
              "      <td>[296, 902, 2174, 908, 1967, 1704, 4896, 919, 4...</td>\n",
              "      <td>[356, 296, 318, 2571, 593, 260, 480, 1196, 295...</td>\n",
              "      <td>[318, 3386, 5502, 2915, 136800, 2302, 95761, 7...</td>\n",
              "    </tr>\n",
              "    <tr>\n",
              "      <th>6</th>\n",
              "      <td>[2, 258, 515, 765, 265, 140, 270, 15, 16, 271,...</td>\n",
              "      <td>[595, 497, 593, 17, 86, 589, 480, 16, 281, 474]</td>\n",
              "      <td>[356, 296, 318, 2571, 593, 260, 480, 1196, 295...</td>\n",
              "      <td>[7147, 1394, 6003, 260, 1270, 704, 4980, 673, ...</td>\n",
              "    </tr>\n",
              "    <tr>\n",
              "      <th>7</th>\n",
              "      <td>[4993, 33794, 4995, 8965, 4874, 6539, 34319, 4...</td>\n",
              "      <td>[4993, 1208, 33794, 6539, 593, 4995, 2324, 356...</td>\n",
              "      <td>[356, 296, 318, 2571, 593, 260, 480, 1196, 295...</td>\n",
              "      <td>[4370, 8961, 47610, 81229, 26365, 48304, 4973,...</td>\n",
              "    </tr>\n",
              "    <tr>\n",
              "      <th>10</th>\n",
              "      <td>[7169, 4995, 107141, 112006, 8969, 72330, 2959...</td>\n",
              "      <td>[2959, 2762, 2858, 69844, 4995, 107141, 5952, ...</td>\n",
              "      <td>[356, 296, 318, 2571, 593, 260, 480, 1196, 295...</td>\n",
              "      <td>[2915, 7943, 235, 4033, 6934, 40815, 457, 7143...</td>\n",
              "    </tr>\n",
              "  </tbody>\n",
              "</table>\n",
              "</div>\n",
              "      <button class=\"colab-df-convert\" onclick=\"convertToInteractive('df-839d5361-63b3-4d6d-be80-750ba369e123')\"\n",
              "              title=\"Convert this dataframe to an interactive table.\"\n",
              "              style=\"display:none;\">\n",
              "        \n",
              "  <svg xmlns=\"http://www.w3.org/2000/svg\" height=\"24px\"viewBox=\"0 0 24 24\"\n",
              "       width=\"24px\">\n",
              "    <path d=\"M0 0h24v24H0V0z\" fill=\"none\"/>\n",
              "    <path d=\"M18.56 5.44l.94 2.06.94-2.06 2.06-.94-2.06-.94-.94-2.06-.94 2.06-2.06.94zm-11 1L8.5 8.5l.94-2.06 2.06-.94-2.06-.94L8.5 2.5l-.94 2.06-2.06.94zm10 10l.94 2.06.94-2.06 2.06-.94-2.06-.94-.94-2.06-.94 2.06-2.06.94z\"/><path d=\"M17.41 7.96l-1.37-1.37c-.4-.4-.92-.59-1.43-.59-.52 0-1.04.2-1.43.59L10.3 9.45l-7.72 7.72c-.78.78-.78 2.05 0 2.83L4 21.41c.39.39.9.59 1.41.59.51 0 1.02-.2 1.41-.59l7.78-7.78 2.81-2.81c.8-.78.8-2.07 0-2.86zM5.41 20L4 18.59l7.72-7.72 1.47 1.35L5.41 20z\"/>\n",
              "  </svg>\n",
              "      </button>\n",
              "      \n",
              "  <style>\n",
              "    .colab-df-container {\n",
              "      display:flex;\n",
              "      flex-wrap:wrap;\n",
              "      gap: 12px;\n",
              "    }\n",
              "\n",
              "    .colab-df-convert {\n",
              "      background-color: #E8F0FE;\n",
              "      border: none;\n",
              "      border-radius: 50%;\n",
              "      cursor: pointer;\n",
              "      display: none;\n",
              "      fill: #1967D2;\n",
              "      height: 32px;\n",
              "      padding: 0 0 0 0;\n",
              "      width: 32px;\n",
              "    }\n",
              "\n",
              "    .colab-df-convert:hover {\n",
              "      background-color: #E2EBFA;\n",
              "      box-shadow: 0px 1px 2px rgba(60, 64, 67, 0.3), 0px 1px 3px 1px rgba(60, 64, 67, 0.15);\n",
              "      fill: #174EA6;\n",
              "    }\n",
              "\n",
              "    [theme=dark] .colab-df-convert {\n",
              "      background-color: #3B4455;\n",
              "      fill: #D2E3FC;\n",
              "    }\n",
              "\n",
              "    [theme=dark] .colab-df-convert:hover {\n",
              "      background-color: #434B5C;\n",
              "      box-shadow: 0px 1px 3px 1px rgba(0, 0, 0, 0.15);\n",
              "      filter: drop-shadow(0px 1px 2px rgba(0, 0, 0, 0.3));\n",
              "      fill: #FFFFFF;\n",
              "    }\n",
              "  </style>\n",
              "\n",
              "      <script>\n",
              "        const buttonEl =\n",
              "          document.querySelector('#df-839d5361-63b3-4d6d-be80-750ba369e123 button.colab-df-convert');\n",
              "        buttonEl.style.display =\n",
              "          google.colab.kernel.accessAllowed ? 'block' : 'none';\n",
              "\n",
              "        async function convertToInteractive(key) {\n",
              "          const element = document.querySelector('#df-839d5361-63b3-4d6d-be80-750ba369e123');\n",
              "          const dataTable =\n",
              "            await google.colab.kernel.invokeFunction('convertToInteractive',\n",
              "                                                     [key], {});\n",
              "          if (!dataTable) return;\n",
              "\n",
              "          const docLinkHtml = 'Like what you see? Visit the ' +\n",
              "            '<a target=\"_blank\" href=https://colab.research.google.com/notebooks/data_table.ipynb>data table notebook</a>'\n",
              "            + ' to learn more about interactive tables.';\n",
              "          element.innerHTML = '';\n",
              "          dataTable['output_type'] = 'display_data';\n",
              "          await google.colab.output.renderOutput(dataTable, element);\n",
              "          const docLink = document.createElement('div');\n",
              "          docLink.innerHTML = docLinkHtml;\n",
              "          element.appendChild(docLink);\n",
              "        }\n",
              "      </script>\n",
              "    </div>\n",
              "  </div>\n",
              "  "
            ]
          },
          "metadata": {},
          "execution_count": 32
        }
      ]
    },
    {
      "cell_type": "code",
      "source": [
        "test = pd.read_csv(\"/content/drive/MyDrive/recomendacao/test.csv\")"
      ],
      "metadata": {
        "id": "a5hSeMq5ijDu"
      },
      "execution_count": null,
      "outputs": []
    },
    {
      "cell_type": "code",
      "source": [
        "test.head()"
      ],
      "metadata": {
        "id": "UluHaMOrHj0r",
        "colab": {
          "base_uri": "https://localhost:8080/",
          "height": 238
        },
        "outputId": "f3375ea9-cad1-45d2-c4da-62f09151d870"
      },
      "execution_count": null,
      "outputs": [
        {
          "output_type": "execute_result",
          "data": {
            "text/plain": [
              "                                                   actual  \\\n",
              "userId                                                      \n",
              "1       [2048, 1408, 2944, 3, 260, 1920, 1030, 1927, 1...   \n",
              "4       [1025, 898, 1923, 902, 3591, 3079, 1288, 3851,...   \n",
              "6       [2, 258, 515, 765, 265, 140, 270, 15, 16, 271,...   \n",
              "7       [4993, 33794, 4995, 8965, 4874, 6539, 34319, 4...   \n",
              "10      [7169, 4995, 107141, 112006, 8969, 72330, 2959...   \n",
              "\n",
              "                                                      SVD  \\\n",
              "userId                                                      \n",
              "1       [2571, 110, 2761, 1197, 3578, 260, 1210, 2991,...   \n",
              "4       [296, 902, 2174, 908, 1967, 1704, 4896, 919, 4...   \n",
              "6         [595, 497, 593, 17, 86, 589, 480, 16, 281, 474]   \n",
              "7       [4993, 1208, 33794, 6539, 593, 4995, 2324, 356...   \n",
              "10      [2959, 2762, 2858, 69844, 4995, 107141, 5952, ...   \n",
              "\n",
              "                                          pop_predictions  \\\n",
              "userId                                                      \n",
              "1       [356, 296, 318, 2571, 593, 260, 480, 1196, 295...   \n",
              "4       [356, 296, 318, 2571, 593, 260, 480, 1196, 295...   \n",
              "6       [356, 296, 318, 2571, 593, 260, 480, 1196, 295...   \n",
              "7       [356, 296, 318, 2571, 593, 260, 480, 1196, 295...   \n",
              "10      [356, 296, 318, 2571, 593, 260, 480, 1196, 295...   \n",
              "\n",
              "                                       random_predictions  \n",
              "userId                                                     \n",
              "1       [62956, 66509, 50872, 99030, 2110, 315, 2167, ...  \n",
              "4       [318, 3386, 5502, 2915, 136800, 2302, 95761, 7...  \n",
              "6       [7147, 1394, 6003, 260, 1270, 704, 4980, 673, ...  \n",
              "7       [4370, 8961, 47610, 81229, 26365, 48304, 4973,...  \n",
              "10      [2915, 7943, 235, 4033, 6934, 40815, 457, 7143...  "
            ],
            "text/html": [
              "\n",
              "  <div id=\"df-2d04a4d7-6db6-4617-bab0-394569285a3f\">\n",
              "    <div class=\"colab-df-container\">\n",
              "      <div>\n",
              "<style scoped>\n",
              "    .dataframe tbody tr th:only-of-type {\n",
              "        vertical-align: middle;\n",
              "    }\n",
              "\n",
              "    .dataframe tbody tr th {\n",
              "        vertical-align: top;\n",
              "    }\n",
              "\n",
              "    .dataframe thead th {\n",
              "        text-align: right;\n",
              "    }\n",
              "</style>\n",
              "<table border=\"1\" class=\"dataframe\">\n",
              "  <thead>\n",
              "    <tr style=\"text-align: right;\">\n",
              "      <th></th>\n",
              "      <th>actual</th>\n",
              "      <th>SVD</th>\n",
              "      <th>pop_predictions</th>\n",
              "      <th>random_predictions</th>\n",
              "    </tr>\n",
              "    <tr>\n",
              "      <th>userId</th>\n",
              "      <th></th>\n",
              "      <th></th>\n",
              "      <th></th>\n",
              "      <th></th>\n",
              "    </tr>\n",
              "  </thead>\n",
              "  <tbody>\n",
              "    <tr>\n",
              "      <th>1</th>\n",
              "      <td>[2048, 1408, 2944, 3, 260, 1920, 1030, 1927, 1...</td>\n",
              "      <td>[2571, 110, 2761, 1197, 3578, 260, 1210, 2991,...</td>\n",
              "      <td>[356, 296, 318, 2571, 593, 260, 480, 1196, 295...</td>\n",
              "      <td>[62956, 66509, 50872, 99030, 2110, 315, 2167, ...</td>\n",
              "    </tr>\n",
              "    <tr>\n",
              "      <th>4</th>\n",
              "      <td>[1025, 898, 1923, 902, 3591, 3079, 1288, 3851,...</td>\n",
              "      <td>[296, 902, 2174, 908, 1967, 1704, 4896, 919, 4...</td>\n",
              "      <td>[356, 296, 318, 2571, 593, 260, 480, 1196, 295...</td>\n",
              "      <td>[318, 3386, 5502, 2915, 136800, 2302, 95761, 7...</td>\n",
              "    </tr>\n",
              "    <tr>\n",
              "      <th>6</th>\n",
              "      <td>[2, 258, 515, 765, 265, 140, 270, 15, 16, 271,...</td>\n",
              "      <td>[595, 497, 593, 17, 86, 589, 480, 16, 281, 474]</td>\n",
              "      <td>[356, 296, 318, 2571, 593, 260, 480, 1196, 295...</td>\n",
              "      <td>[7147, 1394, 6003, 260, 1270, 704, 4980, 673, ...</td>\n",
              "    </tr>\n",
              "    <tr>\n",
              "      <th>7</th>\n",
              "      <td>[4993, 33794, 4995, 8965, 4874, 6539, 34319, 4...</td>\n",
              "      <td>[4993, 1208, 33794, 6539, 593, 4995, 2324, 356...</td>\n",
              "      <td>[356, 296, 318, 2571, 593, 260, 480, 1196, 295...</td>\n",
              "      <td>[4370, 8961, 47610, 81229, 26365, 48304, 4973,...</td>\n",
              "    </tr>\n",
              "    <tr>\n",
              "      <th>10</th>\n",
              "      <td>[7169, 4995, 107141, 112006, 8969, 72330, 2959...</td>\n",
              "      <td>[2959, 2762, 2858, 69844, 4995, 107141, 5952, ...</td>\n",
              "      <td>[356, 296, 318, 2571, 593, 260, 480, 1196, 295...</td>\n",
              "      <td>[2915, 7943, 235, 4033, 6934, 40815, 457, 7143...</td>\n",
              "    </tr>\n",
              "  </tbody>\n",
              "</table>\n",
              "</div>\n",
              "      <button class=\"colab-df-convert\" onclick=\"convertToInteractive('df-2d04a4d7-6db6-4617-bab0-394569285a3f')\"\n",
              "              title=\"Convert this dataframe to an interactive table.\"\n",
              "              style=\"display:none;\">\n",
              "        \n",
              "  <svg xmlns=\"http://www.w3.org/2000/svg\" height=\"24px\"viewBox=\"0 0 24 24\"\n",
              "       width=\"24px\">\n",
              "    <path d=\"M0 0h24v24H0V0z\" fill=\"none\"/>\n",
              "    <path d=\"M18.56 5.44l.94 2.06.94-2.06 2.06-.94-2.06-.94-.94-2.06-.94 2.06-2.06.94zm-11 1L8.5 8.5l.94-2.06 2.06-.94-2.06-.94L8.5 2.5l-.94 2.06-2.06.94zm10 10l.94 2.06.94-2.06 2.06-.94-2.06-.94-.94-2.06-.94 2.06-2.06.94z\"/><path d=\"M17.41 7.96l-1.37-1.37c-.4-.4-.92-.59-1.43-.59-.52 0-1.04.2-1.43.59L10.3 9.45l-7.72 7.72c-.78.78-.78 2.05 0 2.83L4 21.41c.39.39.9.59 1.41.59.51 0 1.02-.2 1.41-.59l7.78-7.78 2.81-2.81c.8-.78.8-2.07 0-2.86zM5.41 20L4 18.59l7.72-7.72 1.47 1.35L5.41 20z\"/>\n",
              "  </svg>\n",
              "      </button>\n",
              "      \n",
              "  <style>\n",
              "    .colab-df-container {\n",
              "      display:flex;\n",
              "      flex-wrap:wrap;\n",
              "      gap: 12px;\n",
              "    }\n",
              "\n",
              "    .colab-df-convert {\n",
              "      background-color: #E8F0FE;\n",
              "      border: none;\n",
              "      border-radius: 50%;\n",
              "      cursor: pointer;\n",
              "      display: none;\n",
              "      fill: #1967D2;\n",
              "      height: 32px;\n",
              "      padding: 0 0 0 0;\n",
              "      width: 32px;\n",
              "    }\n",
              "\n",
              "    .colab-df-convert:hover {\n",
              "      background-color: #E2EBFA;\n",
              "      box-shadow: 0px 1px 2px rgba(60, 64, 67, 0.3), 0px 1px 3px 1px rgba(60, 64, 67, 0.15);\n",
              "      fill: #174EA6;\n",
              "    }\n",
              "\n",
              "    [theme=dark] .colab-df-convert {\n",
              "      background-color: #3B4455;\n",
              "      fill: #D2E3FC;\n",
              "    }\n",
              "\n",
              "    [theme=dark] .colab-df-convert:hover {\n",
              "      background-color: #434B5C;\n",
              "      box-shadow: 0px 1px 3px 1px rgba(0, 0, 0, 0.15);\n",
              "      filter: drop-shadow(0px 1px 2px rgba(0, 0, 0, 0.3));\n",
              "      fill: #FFFFFF;\n",
              "    }\n",
              "  </style>\n",
              "\n",
              "      <script>\n",
              "        const buttonEl =\n",
              "          document.querySelector('#df-2d04a4d7-6db6-4617-bab0-394569285a3f button.colab-df-convert');\n",
              "        buttonEl.style.display =\n",
              "          google.colab.kernel.accessAllowed ? 'block' : 'none';\n",
              "\n",
              "        async function convertToInteractive(key) {\n",
              "          const element = document.querySelector('#df-2d04a4d7-6db6-4617-bab0-394569285a3f');\n",
              "          const dataTable =\n",
              "            await google.colab.kernel.invokeFunction('convertToInteractive',\n",
              "                                                     [key], {});\n",
              "          if (!dataTable) return;\n",
              "\n",
              "          const docLinkHtml = 'Like what you see? Visit the ' +\n",
              "            '<a target=\"_blank\" href=https://colab.research.google.com/notebooks/data_table.ipynb>data table notebook</a>'\n",
              "            + ' to learn more about interactive tables.';\n",
              "          element.innerHTML = '';\n",
              "          dataTable['output_type'] = 'display_data';\n",
              "          await google.colab.output.renderOutput(dataTable, element);\n",
              "          const docLink = document.createElement('div');\n",
              "          docLink.innerHTML = docLinkHtml;\n",
              "          element.appendChild(docLink);\n",
              "        }\n",
              "      </script>\n",
              "    </div>\n",
              "  </div>\n",
              "  "
            ]
          },
          "metadata": {},
          "execution_count": 33
        }
      ]
    },
    {
      "cell_type": "code",
      "source": [
        "test.shape"
      ],
      "metadata": {
        "id": "_KTtUn2ULqQH"
      },
      "execution_count": null,
      "outputs": []
    },
    {
      "cell_type": "markdown",
      "source": [
        "## Recall\n",
        "\n",
        "Mede o recall nas k-ésimas recomendações. **Mark** considera a ordem das recomendações e penaliza as recomendações corretas com base na ordem das recomendações.\n",
        "\n",
        "Ambas são ideais para avaliar uma lista ordenada de recomendações.\n",
        "\n",
        "As métricas sofrem de viés de popularidade. Se um modelo funcionar bem em itens populares, a maioria das recomendações estará correta.\n",
        "\n",
        "As métricas podem parecer altas enquanto o modelo pode não estar fazendo recomendações úteis ou personalizadas"
      ],
      "metadata": {
        "id": "n2VCSn4jgl8a"
      }
    },
    {
      "cell_type": "code",
      "source": [
        "actual = test.actual.values.tolist()\n",
        "svd = test.SVD.values.tolist()\n",
        "pop_predictions = test.pop_predictions.values.tolist()\n",
        "random_predictions = test.random_predictions.values.tolist()"
      ],
      "metadata": {
        "id": "roWrmWp0gmv2"
      },
      "execution_count": null,
      "outputs": []
    },
    {
      "cell_type": "code",
      "source": [
        "pop_mark = []\n",
        "for K in np.arange(1, 11):\n",
        "    pop_mark.extend([recmetrics.mark(actual, pop_predictions, k=K)])\n",
        "pop_mark"
      ],
      "metadata": {
        "id": "CWJBbTv1gpEL",
        "colab": {
          "base_uri": "https://localhost:8080/"
        },
        "outputId": "68a2f1a3-aa78-47a8-b576-105829920283"
      },
      "execution_count": null,
      "outputs": [
        {
          "output_type": "execute_result",
          "data": {
            "text/plain": [
              "[0.004404590842626721,\n",
              " 0.006827639563782234,\n",
              " 0.00858081740211326,\n",
              " 0.010128456414262473,\n",
              " 0.011316789081385795,\n",
              " 0.012057639603097362,\n",
              " 0.013002836219865877,\n",
              " 0.013511360404727727,\n",
              " 0.014187067853671013,\n",
              " 0.014721855839715185]"
            ]
          },
          "metadata": {},
          "execution_count": 35
        }
      ]
    },
    {
      "cell_type": "code",
      "source": [
        "random_mark = []\n",
        "for K in np.arange(1, 11):\n",
        "    random_mark.extend([recmetrics.mark(actual, random_predictions, k=K)])\n",
        "random_mark"
      ],
      "metadata": {
        "id": "weBD1rUOgskH",
        "colab": {
          "base_uri": "https://localhost:8080/"
        },
        "outputId": "f1b53ae4-bfdc-43e1-d85a-2dedc81a0b1e"
      },
      "execution_count": null,
      "outputs": [
        {
          "output_type": "execute_result",
          "data": {
            "text/plain": [
              "[0.0005550690737728629,\n",
              " 0.0008847806885637337,\n",
              " 0.0010981400727745514,\n",
              " 0.0013776805264772323,\n",
              " 0.0015361030709276336,\n",
              " 0.0016164695831204722,\n",
              " 0.0016770331739728139,\n",
              " 0.0018004405597552274,\n",
              " 0.0018769163498049053,\n",
              " 0.001994059142044563]"
            ]
          },
          "metadata": {},
          "execution_count": 36
        }
      ]
    },
    {
      "cell_type": "code",
      "source": [
        "svd_mark = []\n",
        "for K in np.arange(1, 11):\n",
        "    svd_mark.extend([recmetrics.mark(actual, svd, k=K)])\n",
        "svd_mark"
      ],
      "metadata": {
        "id": "NsrxeIR-gujm",
        "colab": {
          "base_uri": "https://localhost:8080/"
        },
        "outputId": "9510e034-3da0-49da-ba66-f536fe287d34"
      },
      "execution_count": null,
      "outputs": [
        {
          "output_type": "execute_result",
          "data": {
            "text/plain": [
              "[0.033638671720815,\n",
              " 0.06727734344163,\n",
              " 0.100916015162445,\n",
              " 0.13455468688326,\n",
              " 0.168193358604075,\n",
              " 0.20183203032489,\n",
              " 0.23502978493812118,\n",
              " 0.2682275395513524,\n",
              " 0.3014252941645837,\n",
              " 0.33462304877781485]"
            ]
          },
          "metadata": {},
          "execution_count": 37
        }
      ]
    },
    {
      "cell_type": "markdown",
      "source": [
        "## Mark Plot"
      ],
      "metadata": {
        "id": "kdmdQmafg1vi"
      }
    },
    {
      "cell_type": "code",
      "source": [
        "mark_scores = [random_mark, pop_mark, svd_mark]\n",
        "index = range(1,10 +1)\n",
        "names = ['Recomendação Aleatória', 'Recomendação por Popularidade', 'SVD']\n",
        "\n",
        "fig = plt.figure(figsize=(15, 7))\n",
        "recmetrics.mark_plot(mark_scores, model_names=names, k_range=index)"
      ],
      "metadata": {
        "id": "mzJ9_epNg0f2",
        "colab": {
          "base_uri": "https://localhost:8080/",
          "height": 458
        },
        "outputId": "9474f151-b91a-4a19-9504-00d088351532"
      },
      "execution_count": null,
      "outputs": [
        {
          "output_type": "display_data",
          "data": {
            "text/plain": [
              "<Figure size 1080x504 with 1 Axes>"
            ],
            "image/png": "[encoded data removed]"
          },
          "metadata": {
            "needs_background": "light"
          }
        }
      ]
    },
    {
      "cell_type": "markdown",
      "source": [
        "## Coverage\n",
        "\n",
        "É a porcentagem de itens que o recomendador pode recomendar. É apresentado pela seguinte fórmula:\n",
        "\n",
        "$$ C = \\dfrac{I}{N} \\times 100  \\%  $$\n",
        "\n",
        "- **I**: Número de itens únicos que o modelo recomendou no conjunto de teste.\n",
        "\n",
        "- **N**: Número total de itens únicos no conjunto de treino.\n",
        "\n",
        "A covertura de catálogo é a taxa de itens distintos recomendados ao usuário por um período de tempo."
      ],
      "metadata": {
        "id": "5NJxBfNehAi6"
      }
    },
    {
      "cell_type": "code",
      "source": [
        "catalog = ratings.movieId.unique().tolist()  \n",
        "random_coverage = recmetrics.prediction_coverage(random_predictions, catalog)\n",
        "pop_coverage = recmetrics.prediction_coverage(pop_predictions, catalog)\n",
        "cf_coverage = recmetrics.prediction_coverage(svd, catalog)"
      ],
      "metadata": {
        "id": "99NTmKdJg_Nz"
      },
      "execution_count": null,
      "outputs": []
    },
    {
      "cell_type": "markdown",
      "source": [
        "## Catalog Coverage"
      ],
      "metadata": {
        "id": "RilxgtKYhDos"
      }
    },
    {
      "cell_type": "code",
      "source": [
        "# N=100 observed recommendation lists\n",
        "#random_cat_coverage = recmetrics.catalog_coverage(random_coverage, catalog, 100)\n",
        "#pop_cat_coverage = recmetrics.catalog_coverage(pop_recs, catalog, 100)\n",
        "#cf_cat_coverage = recmetrics.catalog_coverage(cf_recs, catalog, 100)"
      ],
      "metadata": {
        "id": "0qwxpuyahClR"
      },
      "execution_count": null,
      "outputs": []
    },
    {
      "cell_type": "markdown",
      "source": [
        "## Coverage Plot"
      ],
      "metadata": {
        "id": "pPejUv1QhGzu"
      }
    },
    {
      "cell_type": "code",
      "source": [
        "# plot of prediction coverage\n",
        "coverage_scores = [random_coverage, pop_coverage, cf_coverage]\n",
        "model_names = ['Recomendação Aleatória', 'Recomendação por Popularidade', 'SVD']\n",
        "\n",
        "fig = plt.figure(figsize=(7, 5))\n",
        "recmetrics.coverage_plot(coverage_scores, model_names)"
      ],
      "metadata": {
        "id": "pzS_UAjbhF55",
        "colab": {
          "base_uri": "https://localhost:8080/",
          "height": 336
        },
        "outputId": "242d660d-d1bd-4f2f-cc20-26339538ec25"
      },
      "execution_count": null,
      "outputs": [
        {
          "output_type": "display_data",
          "data": {
            "text/plain": [
              "<Figure size 504x360 with 1 Axes>"
            ],
            "image/png": "[encoded data removed]"
          },
          "metadata": {
            "needs_background": "light"
          }
        }
      ]
    },
    {
      "cell_type": "markdown",
      "source": [
        "## Novelty\n",
        "O índice de novidade mede a capacidade do modelo propor itens novos e inesperados que um usuário provavelmente não conhece.\n",
        "\n",
        "Ela usa autoinformação do item recomendado e calcula a autoinformação média por lista dos $N$ princípais e faz a média de todos os usuários.\n",
        "\n",
        "$$ novelty = \\dfrac{1}{\\mathbb{U}} \\sum_{\\overset{\\forall u \\in \\mathbb{U}}{}}\\sum_{\\overset{\\forall i \\in topN}{}}\\dfrac{log_2(\\frac{count(i)}{|\\mathbb{U}|})}{|N|} $$\n",
        "\n",
        "- $|\\mathbb{U}|$ : Número de usuários \n",
        "- Count(i) : Número de usuários que consumiram determinado item i\n",
        "- $|N|$: Tamanho da lista recomendada"
      ],
      "metadata": {
        "id": "sBFXjcTjhMPL"
      }
    },
    {
      "cell_type": "code",
      "source": [
        "nov = ratings.movieId.value_counts()\n",
        "pop = dict(nov)"
      ],
      "metadata": {
        "id": "8ys3kVcKhLKa"
      },
      "execution_count": null,
      "outputs": []
    },
    {
      "cell_type": "code",
      "source": [
        "random_novelty,random_mselfinfo_list = recmetrics.novelty(random_predictions, pop, len(users), 10)\n",
        "pop_novelty,pop_mselfinfo_list = recmetrics.novelty(pop_recs, pop, len(users), 10)\n",
        "cf_novelty,cf_mselfinfo_list = recmetrics.novelty(cf_recs, pop, len(users), 10)"
      ],
      "metadata": {
        "id": "J4Ung-xchOGO"
      },
      "execution_count": null,
      "outputs": []
    },
    {
      "cell_type": "code",
      "source": [
        "print(random_novelty, pop_novelty, cf_novelty)"
      ],
      "metadata": {
        "id": "R7SfWDP1hPQD",
        "colab": {
          "base_uri": "https://localhost:8080/"
        },
        "outputId": "c25a81f4-7eac-4211-9a93-755677f7ce23"
      },
      "execution_count": null,
      "outputs": [
        {
          "output_type": "stream",
          "name": "stdout",
          "text": [
            "3.853520866085095 0.838295578314479 2.333407404915733\n"
          ]
        }
      ]
    },
    {
      "cell_type": "markdown",
      "source": [
        "## Personalization\n",
        "\n",
        "A personalização mede a semelhança de recomendação entre os usuários (ele olha se as recomendações estão muito parecidas). \n",
        "\n",
        "- Uma alta pontuação indica que as recomendações do usuário são diferentes.\n",
        "\n",
        "- Uma baixa pontuação indica que as recomendações são semelhantes.\n",
        "\n",
        "Ex.:\n",
        " `example_predictions = [[A, B, C, D], [A, B, C, D]]`\n",
        "\n",
        "A personalização para o exemplo acima é de 0.25 (i.e. 25%(1/4) das listas são diferentes)\n",
        "\n",
        "Obs.: As listas tem que ser do mesmo tamanho!"
      ],
      "metadata": {
        "id": "FPxtwMROIFYH"
      }
    },
    {
      "cell_type": "code",
      "source": [],
      "metadata": {
        "id": "uLuFQ6hwIFvo"
      },
      "execution_count": null,
      "outputs": []
    }
  ]
}