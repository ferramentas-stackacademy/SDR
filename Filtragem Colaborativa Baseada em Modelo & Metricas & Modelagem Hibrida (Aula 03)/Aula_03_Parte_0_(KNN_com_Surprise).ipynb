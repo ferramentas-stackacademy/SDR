{
  "nbformat": 4,
  "nbformat_minor": 0,
  "metadata": {
    "colab": {
      "provenance": []
    },
    "kernelspec": {
      "name": "python3",
      "display_name": "Python 3"
    },
    "language_info": {
      "name": "python"
    }
  },
  "cells": [
    {
      "cell_type": "markdown",
      "source": [
        "## KNN com Surprise"
      ],
      "metadata": {
        "id": "kVKxfx4Usi-J"
      }
    },
    {
      "cell_type": "code",
      "source": [
        "!pip install scikit-surprise -q"
      ],
      "metadata": {
        "colab": {
          "base_uri": "https://localhost:8080/"
        },
        "id": "6UmDaIrqs0q-",
        "outputId": "b972ff94-a1f9-448a-af52-f52149fddaa0"
      },
      "execution_count": null,
      "outputs": [
        {
          "output_type": "stream",
          "name": "stdout",
          "text": [
            "\u001b[?25l     \u001b[90m━━━━━━━━━━━━━━━━━━━━━━━━━━━━━━━━━━━━━━━━\u001b[0m \u001b[32m0.0/772.0 KB\u001b[0m \u001b[31m?\u001b[0m eta \u001b[36m-:--:--\u001b[0m\r\u001b[2K     \u001b[91m━━━━━━━━━━━━━━━━━━━━\u001b[0m\u001b[91m╸\u001b[0m\u001b[90m━━━━━━━━━━━━━━━━━\u001b[0m \u001b[32m419.8/772.0 KB\u001b[0m \u001b[31m12.6 MB/s\u001b[0m eta \u001b[36m0:00:01\u001b[0m\r\u001b[2K     \u001b[90m━━━━━━━━━━━━━━━━━━━━━━━━━━━━━━━━━━━━━━\u001b[0m \u001b[32m772.0/772.0 KB\u001b[0m \u001b[31m12.8 MB/s\u001b[0m eta \u001b[36m0:00:00\u001b[0m\n",
            "\u001b[?25h  Preparing metadata (setup.py) ... \u001b[?25l\u001b[?25hdone\n",
            "  Building wheel for scikit-surprise (setup.py) ... \u001b[?25l\u001b[?25hdone\n"
          ]
        }
      ]
    },
    {
      "cell_type": "code",
      "execution_count": null,
      "metadata": {
        "id": "QF3BkOfesehV"
      },
      "outputs": [],
      "source": [
        "import numpy as np\n",
        "import pandas as pd\n",
        "from surprise import Dataset\n",
        "from surprise import Reader"
      ]
    },
    {
      "cell_type": "markdown",
      "source": [
        "A biblioteca Surprise tem uma classe chamada KNNWithMeans que pode ser usada para criar um recomendador baseado em filtragem colaborativa usando o algoritmo k-NN. Aqui está um exemplo de como criar e treinar um recomendador usando essa classe:"
      ],
      "metadata": {
        "id": "0_FZBVSovIK4"
      }
    },
    {
      "cell_type": "code",
      "source": [
        "data = Dataset.load_builtin(\"ml-100k\")"
      ],
      "metadata": {
        "id": "rSQHAPP7snW6",
        "colab": {
          "base_uri": "https://localhost:8080/"
        },
        "outputId": "b42eb682-f70f-4993-efd7-842bf642fa8d"
      },
      "execution_count": null,
      "outputs": [
        {
          "output_type": "stream",
          "name": "stdout",
          "text": [
            "Dataset ml-100k could not be found. Do you want to download it? [Y/n] Y\n",
            "Trying to download dataset from https://files.grouplens.org/datasets/movielens/ml-100k.zip...\n",
            "Done! Dataset ml-100k has been saved to /root/.surprise_data/ml-100k\n"
          ]
        }
      ]
    },
    {
      "cell_type": "code",
      "source": [
        "from surprise import KNNWithMeans"
      ],
      "metadata": {
        "id": "VNLVV9H-tSAP"
      },
      "execution_count": null,
      "outputs": []
    },
    {
      "cell_type": "code",
      "source": [
        "# Usando item-based com similaridade cosseno\n",
        "sim_options_1 ={'name': 'pearson_baseline', 'user_based': True}\n",
        "sim_options_2 = {\"name\": \"cosine\", \"user_based\": False,}  # Computar similaridade entre os itens"
      ],
      "metadata": {
        "id": "uEbpp9IFvR3K"
      },
      "execution_count": null,
      "outputs": []
    },
    {
      "cell_type": "code",
      "source": [
        "# Define o algoritmo a ser usado\n",
        "algo = KNNWithMeans(k=50, sim_options=sim_options_2)"
      ],
      "metadata": {
        "id": "h5YwCc3KvLkV"
      },
      "execution_count": null,
      "outputs": []
    },
    {
      "cell_type": "markdown",
      "source": [
        "A função de recomendação acima é configurada para usar a similaridade de cosseno e encontrar itens semelhantes usando a abordagem baseada em itens.\n",
        "\n",
        "Iremos criar um dataset de treino a partir dos dados. "
      ],
      "metadata": {
        "id": "xj8h6_PItpED"
      }
    },
    {
      "cell_type": "code",
      "source": [
        "# Treina o algoritmo\n",
        "trainset = data.build_full_trainset()"
      ],
      "metadata": {
        "id": "uQQt8gEbvUsb"
      },
      "execution_count": null,
      "outputs": []
    },
    {
      "cell_type": "code",
      "source": [
        "algo.fit(trainset)"
      ],
      "metadata": {
        "colab": {
          "base_uri": "https://localhost:8080/"
        },
        "id": "rzAhN89jvbVT",
        "outputId": "9f87b6f5-7020-422c-e429-49351bdc0687"
      },
      "execution_count": null,
      "outputs": [
        {
          "output_type": "stream",
          "name": "stdout",
          "text": [
            "Computing the cosine similarity matrix...\n",
            "Done computing similarity matrix.\n"
          ]
        },
        {
          "output_type": "execute_result",
          "data": {
            "text/plain": [
              "<surprise.prediction_algorithms.knns.KNNWithMeans at 0x7f82e77ef100>"
            ]
          },
          "metadata": {},
          "execution_count": 13
        }
      ]
    },
    {
      "cell_type": "code",
      "source": [
        "# Faz previsões\n",
        "uid = str(196)  # usuário id\n",
        "iid = str(302)  # item id\n",
        "pred = algo.predict(uid, iid)\n",
        "print(pred)"
      ],
      "metadata": {
        "colab": {
          "base_uri": "https://localhost:8080/"
        },
        "id": "AlM552ZZvXBC",
        "outputId": "9e774ceb-03c9-4af0-fcf0-59c9a3b386c6"
      },
      "execution_count": null,
      "outputs": [
        {
          "output_type": "stream",
          "name": "stdout",
          "text": [
            "user: 196        item: 302        r_ui = None   est = 4.18   {'actual_k': 39, 'was_impossible': False}\n"
          ]
        }
      ]
    },
    {
      "cell_type": "markdown",
      "source": [
        "# Ajustando os Parâmetros do Algoritmo\n",
        "Surprise fornece uma classe GridSearchCV análoga a GridSearchCV do scikit-learn.\n",
        "\n",
        "Com um dict de todos os parâmetros, GridSearchCV tenta todas as combinações de parâmetros e relata os melhores parâmetros para qualquer medida de precisão\n",
        "\n",
        "Por exemplo, você pode verificar qual métrica de similaridade funciona melhor para seus dados em abordagens baseadas em memória:"
      ],
      "metadata": {
        "id": "9NmhpDPswghP"
      }
    },
    {
      "cell_type": "markdown",
      "source": [
        "- name contém a métrica de similaridade a ser usada. As opções são cosseno, msd, pearson ou pearson_baseline. O padrão é msd.\n",
        "\n",
        "- user_based booleano que informa se a abordagem será baseada no usuário ou no item. O padrão é True, o que significa que a abordagem baseada no usuário será usada.\n",
        "\n",
        "- min_support é o número mínimo de itens comuns necessários entre os usuários para considerá-los por similaridade. Para a abordagem baseada em itens, isso corresponde ao número mínimo de usuários comuns para dois itens."
      ],
      "metadata": {
        "id": "AWOAzW22zoKo"
      }
    },
    {
      "cell_type": "code",
      "source": [
        "from surprise import KNNWithMeans\n",
        "from surprise import Dataset\n",
        "from surprise.model_selection import GridSearchCV\n",
        "\n",
        "data = Dataset.load_builtin(\"ml-100k\")\n",
        "sim_options = {\n",
        "    \"name\": [\"pearson_baseline\", \"cosine\"],\n",
        "    \"min_support\": [3, 4, 5],\n",
        "    \"user_based\": [False, True],\n",
        "}\n",
        "\n",
        "param_grid = {\"sim_options\": sim_options}\n",
        "\n",
        "gs = GridSearchCV(KNNWithMeans, param_grid, measures=[\"rmse\", \"mae\"], cv=3)\n",
        "gs.fit(data)"
      ],
      "metadata": {
        "id": "vUrcwY67whvP"
      },
      "execution_count": null,
      "outputs": []
    },
    {
      "cell_type": "code",
      "source": [
        "print(gs.best_score[\"rmse\"])\n",
        "print(gs.best_params[\"rmse\"])"
      ],
      "metadata": {
        "id": "WyYmpr8Qw91t"
      },
      "execution_count": null,
      "outputs": []
    }
  ]
}