{
  "nbformat": 4,
  "nbformat_minor": 0,
  "metadata": {
    "colab": {
      "provenance": []
    },
    "kernelspec": {
      "name": "python3",
      "display_name": "Python 3"
    },
    "language_info": {
      "name": "python"
    }
  },
  "cells": [
    {
      "cell_type": "markdown",
      "source": [
        "# Implementando um modelo de Recomendação Hibrido\n",
        "\n",
        "Vamos construir um sistema de recomendação híbrido usando a implementação do python chamada LightFM. Nesta implementação, veremos como podemos estimar o modelo dado acima (BPR e WARP). Antes de ir para a implementação, podemos exigir a instalação da biblioteca que devemos usar na implementação"
      ],
      "metadata": {
        "id": "ddQ6d2fGLRFQ"
      }
    },
    {
      "cell_type": "code",
      "source": [
        "!pip install lightfm -q"
      ],
      "metadata": {
        "colab": {
          "base_uri": "https://localhost:8080/"
        },
        "id": "KXgbkg_9JMvy",
        "outputId": "e90ccfab-0237-4735-f3d7-37e9722b281c"
      },
      "execution_count": null,
      "outputs": [
        {
          "output_type": "stream",
          "name": "stdout",
          "text": [
            "\u001b[?25l     \u001b[90m━━━━━━━━━━━━━━━━━━━━━━━━━━━━━━━━━━━━━━━━\u001b[0m \u001b[32m0.0/310.1 KB\u001b[0m \u001b[31m?\u001b[0m eta \u001b[36m-:--:--\u001b[0m\r\u001b[2K     \u001b[91m━━━━━━━━━━━━━━━━━━━━━━━━━━━━━━━━━━━━━\u001b[0m\u001b[91m╸\u001b[0m \u001b[32m307.2/310.1 KB\u001b[0m \u001b[31m34.7 MB/s\u001b[0m eta \u001b[36m0:00:01\u001b[0m\r\u001b[2K     \u001b[91m━━━━━━━━━━━━━━━━━━━━━━━━━━━━━━━━━━━━━\u001b[0m\u001b[91m╸\u001b[0m \u001b[32m307.2/310.1 KB\u001b[0m \u001b[31m34.7 MB/s\u001b[0m eta \u001b[36m0:00:01\u001b[0m\r\u001b[2K     \u001b[90m━━━━━━━━━━━━━━━━━━━━━━━━━━━━━━━━━━━━━━━\u001b[0m \u001b[32m310.1/310.1 KB\u001b[0m \u001b[31m4.6 MB/s\u001b[0m eta \u001b[36m0:00:00\u001b[0m\n",
            "\u001b[?25h  Preparing metadata (setup.py) ... \u001b[?25l\u001b[?25hdone\n",
            "  Building wheel for lightfm (setup.py) ... \u001b[?25l\u001b[?25hdone\n"
          ]
        }
      ]
    },
    {
      "cell_type": "code",
      "execution_count": null,
      "metadata": {
        "id": "1kFIx_qvVhVx"
      },
      "outputs": [],
      "source": [
        "import pandas as pd\n",
        "import numpy as np\n",
        "from lightfm.datasets import fetch_movielens"
      ]
    },
    {
      "cell_type": "code",
      "source": [
        "data = fetch_movielens()"
      ],
      "metadata": {
        "id": "ugvo93qZVxnN"
      },
      "execution_count": null,
      "outputs": []
    },
    {
      "cell_type": "code",
      "source": [
        "#Checking the dictionaries and their size in  the data:\n",
        "for key, value in data.items():\n",
        "    print(key, value.shape)"
      ],
      "metadata": {
        "colab": {
          "base_uri": "https://localhost:8080/"
        },
        "id": "F9UKazbNYF96",
        "outputId": "0d20ff89-e96f-4ee2-9425-9012399c13de"
      },
      "execution_count": null,
      "outputs": [
        {
          "output_type": "stream",
          "name": "stdout",
          "text": [
            "train (943, 1682)\n",
            "test (943, 1682)\n",
            "item_features (1682, 1682)\n",
            "item_feature_labels (1682,)\n",
            "item_labels (1682,)\n"
          ]
        }
      ]
    },
    {
      "cell_type": "code",
      "source": [
        "#Defining the train and test data for training and testing purposes:\n",
        "train = data['train']\n",
        "test = data['test']"
      ],
      "metadata": {
        "id": "oDl-FHIRJlBD"
      },
      "execution_count": null,
      "outputs": []
    },
    {
      "cell_type": "markdown",
      "source": [
        "## Perdas usadas pelos Sistemas de Recomendação\n",
        "\n",
        "###Bayesian Personalised Ranking(BPR) pairwise loss \n",
        "\n",
        "Este método pode ser usado quando a interação positiva do usuário nos dados é apresentada e somos obrigados a otimizar o ROC AUC. neste usando a perda pairwise, tentamos maximizar a diferença de previsão entre o feedback positivo e um feedback negativo selecionado aleatoriamente.\n",
        "\n",
        "###Weighted Approximate-Rank Pairwise(WARP) loss\n",
        "Isso é útil quando a interação positiva está disponível no feedback e somos obrigados a otimizar algumas das principais recomendações. Aqui, ele amostra repetidamente o feedback negativo até encontrar o feedback que está violando a classificação e esse procedimento maximiza a classificação do feedback positivo."
      ],
      "metadata": {
        "id": "2o3mAQDAKyVq"
      }
    },
    {
      "cell_type": "code",
      "source": [
        "from lightfm import LightFM\n",
        "model = LightFM(learning_rate=0.05, loss='warp', learning_schedule='adagrad', no_components = 20)"
      ],
      "metadata": {
        "id": "5f6aVD2eYQ0k"
      },
      "execution_count": null,
      "outputs": []
    },
    {
      "cell_type": "code",
      "source": [
        "model.fit(train, epochs=10)"
      ],
      "metadata": {
        "colab": {
          "base_uri": "https://localhost:8080/"
        },
        "id": "x7LudRHeLgy0",
        "outputId": "9610edc4-471e-40a0-c661-6d0cc3c22dc1"
      },
      "execution_count": null,
      "outputs": [
        {
          "output_type": "execute_result",
          "data": {
            "text/plain": [
              "<lightfm.lightfm.LightFM at 0x7f275955ac70>"
            ]
          },
          "metadata": {},
          "execution_count": 7
        }
      ]
    },
    {
      "cell_type": "code",
      "source": [
        "from lightfm.evaluation import precision_at_k, auc_score"
      ],
      "metadata": {
        "id": "t0b0bjjpLxP4"
      },
      "execution_count": null,
      "outputs": []
    },
    {
      "cell_type": "code",
      "source": [
        "train_precision = precision_at_k(model, train, k=10).mean()\n",
        "test_precision = precision_at_k(model, test, k=10, train_interactions=train).mean()\n",
        "train_auc = auc_score(model, train).mean()\n",
        "test_auc = auc_score(model, test, train_interactions=train).mean()"
      ],
      "metadata": {
        "id": "9weGBJzhL0WY"
      },
      "execution_count": null,
      "outputs": []
    },
    {
      "cell_type": "code",
      "source": [
        "print('Precision: train %.2f, test %.2f.' % (train_precision, test_precision))\n",
        "print('AUC: train %.2f, test %.2f.' % (train_auc, test_auc))"
      ],
      "metadata": {
        "colab": {
          "base_uri": "https://localhost:8080/"
        },
        "id": "WNZxVDgQL2ko",
        "outputId": "902d8889-a6dc-4569-f289-ca163a73d65d"
      },
      "execution_count": null,
      "outputs": [
        {
          "output_type": "stream",
          "name": "stdout",
          "text": [
            "Precision: train 0.64, test 0.24.\n",
            "AUC: train 0.95, test 0.93.\n"
          ]
        }
      ]
    },
    {
      "cell_type": "markdown",
      "source": [
        "Maciej Kula - Hybrid Recommender System in Python"
      ],
      "metadata": {
        "id": "Bps4Ff2hMK7c"
      }
    },
    {
      "cell_type": "code",
      "source": [],
      "metadata": {
        "id": "lVc-HdrcMOx5"
      },
      "execution_count": null,
      "outputs": []
    }
  ]
}