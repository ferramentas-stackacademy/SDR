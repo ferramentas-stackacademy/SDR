{
  "nbformat": 4,
  "nbformat_minor": 0,
  "metadata": {
    "colab": {
      "provenance": []
    },
    "kernelspec": {
      "name": "python3",
      "display_name": "Python 3"
    },
    "language_info": {
      "name": "python"
    }
  },
  "cells": [
    {
      "cell_type": "code",
      "source": [
        "!pip install -U future -q"
      ],
      "metadata": {
        "colab": {
          "base_uri": "https://localhost:8080/"
        },
        "id": "2Mp87-HPNu0N",
        "outputId": "12178f20-acbe-493c-b504-378c72733bcd"
      },
      "execution_count": null,
      "outputs": [
        {
          "output_type": "stream",
          "name": "stdout",
          "text": [
            "\u001b[?25l     \u001b[90m━━━━━━━━━━━━━━━━━━━━━━━━━━━━━━━━━━━━━━━━\u001b[0m \u001b[32m0.0/840.9 KB\u001b[0m \u001b[31m?\u001b[0m eta \u001b[36m-:--:--\u001b[0m\r\u001b[2K     \u001b[91m━━━━━━━━━━━━━━━━━━━━━━━━━━━━━━━━━━━━━\u001b[0m\u001b[91m╸\u001b[0m \u001b[32m839.7/840.9 KB\u001b[0m \u001b[31m50.3 MB/s\u001b[0m eta \u001b[36m0:00:01\u001b[0m\r\u001b[2K     \u001b[90m━━━━━━━━━━━━━━━━━━━━━━━━━━━━━━━━━━━━━━\u001b[0m \u001b[32m840.9/840.9 KB\u001b[0m \u001b[31m21.1 MB/s\u001b[0m eta \u001b[36m0:00:00\u001b[0m\n",
            "\u001b[?25h  Preparing metadata (setup.py) ... \u001b[?25l\u001b[?25hdone\n",
            "  Building wheel for future (setup.py) ... \u001b[?25l\u001b[?25hdone\n"
          ]
        }
      ]
    },
    {
      "cell_type": "code",
      "execution_count": null,
      "metadata": {
        "id": "ESv_0KipEjCp"
      },
      "outputs": [],
      "source": [
        "from __future__ import print_function,division"
      ]
    },
    {
      "cell_type": "code",
      "source": [
        "from builtins import range, input"
      ],
      "metadata": {
        "id": "T3iKxWUwJXvk"
      },
      "execution_count": null,
      "outputs": []
    },
    {
      "cell_type": "code",
      "source": [
        "import pickle\n",
        "import numpy as np\n",
        "import pandas as pd\n",
        "import matplotlib.pyplot as plt\n",
        "from sklearn.utils import shuffle"
      ],
      "metadata": {
        "id": "7tyXNiKXJa8_"
      },
      "execution_count": null,
      "outputs": []
    },
    {
      "cell_type": "code",
      "source": [
        "from keras.models import Model\n",
        "from keras.layers import Input, Embedding, Flatten, Dense, Concatenate\n",
        "from keras.layers import Dropout, BatchNormalization, Activation\n",
        "from keras.regularizers import l2\n",
        "from keras.optimizers import SGD, Adam"
      ],
      "metadata": {
        "id": "MoBeF0jmJiS5"
      },
      "execution_count": null,
      "outputs": []
    },
    {
      "cell_type": "code",
      "source": [
        "ratings = pd.read_csv(\"/content/drive/MyDrive/recomendacao/ratings_small.csv\")"
      ],
      "metadata": {
        "id": "MAuBlhD4Jj7I"
      },
      "execution_count": null,
      "outputs": []
    },
    {
      "cell_type": "code",
      "source": [
        "N = ratings.userId.max() + 1 #Número de usuários\n",
        "M = ratings.movieId.max() + 1 #Número de filmes"
      ],
      "metadata": {
        "id": "z0WFT5FIKE55"
      },
      "execution_count": null,
      "outputs": []
    },
    {
      "cell_type": "code",
      "source": [
        "ratings = shuffle(ratings)\n",
        "corte = int(0.8*len(ratings))\n",
        "ratings_train = ratings.loc[:corte]\n",
        "ratings_teste = ratings.loc[corte:]"
      ],
      "metadata": {
        "id": "Untl-wAyKTnE"
      },
      "execution_count": null,
      "outputs": []
    },
    {
      "cell_type": "code",
      "source": [
        "K = 10\n",
        "mean = ratings.rating.mean()\n",
        "epochs = 10"
      ],
      "metadata": {
        "id": "BzuYB2QkKl8n"
      },
      "execution_count": null,
      "outputs": []
    },
    {
      "cell_type": "code",
      "source": [
        "u = Input(shape=(1,))\n",
        "m = Input(shape=(1,))\n",
        "u_embedding = Embedding(N,K)(u) #(N, 1, K)\n",
        "m_embedding = Embedding(M,K)(u) #(N, 1, K)\n",
        "# Precisando fazer o Flatten pois a rede neural espera um input 2D\n",
        "u_embedding = Flatten()(u_embedding) #(N,K)\n",
        "m_embedding = Flatten()(m_embedding) # (N,K)"
      ],
      "metadata": {
        "id": "H-omz6m7KsDh"
      },
      "execution_count": null,
      "outputs": []
    },
    {
      "cell_type": "code",
      "source": [
        "x = Concatenate()([u_embedding, m_embedding]) #(N, 2K)"
      ],
      "metadata": {
        "id": "IUA2MmxZLPaL"
      },
      "execution_count": null,
      "outputs": []
    },
    {
      "cell_type": "code",
      "source": [
        "#Rede Neural\n",
        "x = Dense(400)(x)\n",
        "x = Activation('relu')(x)\n",
        "x = Dense(1)(x)"
      ],
      "metadata": {
        "id": "b4esyL64LpGR"
      },
      "execution_count": null,
      "outputs": []
    },
    {
      "cell_type": "code",
      "source": [
        "model = Model(inputs=[u,m], outputs = x)\n",
        "model.compile(\n",
        "    loss='mse',\n",
        "    optimizer=SGD(lr=0.01, momentum=0.9),\n",
        "    metrics=['mse'],\n",
        ")"
      ],
      "metadata": {
        "id": "GWqsbCdNL5tw"
      },
      "execution_count": null,
      "outputs": []
    },
    {
      "cell_type": "code",
      "source": [
        "r = model.fit(\n",
        "    x = [ratings_train.userId.values, ratings_train.movieId.values],\n",
        "    y = ratings_train.rating.values - mean,\n",
        "    epochs = epochs,\n",
        "    batch_size=128,\n",
        "    validation_data=(\n",
        "        [ratings_teste.userId.values, ratings_teste.movieId.values],\n",
        "        ratings_teste.rating.values - mean\n",
        "    )\n",
        ")"
      ],
      "metadata": {
        "colab": {
          "base_uri": "https://localhost:8080/"
        },
        "id": "z_0egaEUO1xy",
        "outputId": "c51d0cbc-8762-40e2-e67b-42e6d4961207"
      },
      "execution_count": null,
      "outputs": [
        {
          "output_type": "stream",
          "name": "stdout",
          "text": [
            "Epoch 1/10\n",
            "756/756 [==============================] - 3s 3ms/step - loss: 0.9629 - mse: 0.9629 - val_loss: 0.9359 - val_mse: 0.9359\n",
            "Epoch 2/10\n",
            "756/756 [==============================] - 2s 2ms/step - loss: 0.8944 - mse: 0.8944 - val_loss: 0.8979 - val_mse: 0.8979\n",
            "Epoch 3/10\n",
            "756/756 [==============================] - 2s 2ms/step - loss: 0.8874 - mse: 0.8874 - val_loss: 0.8974 - val_mse: 0.8974\n",
            "Epoch 4/10\n",
            "756/756 [==============================] - 2s 3ms/step - loss: 0.8851 - mse: 0.8851 - val_loss: 0.8966 - val_mse: 0.8966\n",
            "Epoch 5/10\n",
            "756/756 [==============================] - 2s 2ms/step - loss: 0.8846 - mse: 0.8846 - val_loss: 0.9111 - val_mse: 0.9111\n",
            "Epoch 6/10\n",
            "756/756 [==============================] - 2s 2ms/step - loss: 0.8831 - mse: 0.8831 - val_loss: 0.8933 - val_mse: 0.8933\n",
            "Epoch 7/10\n",
            "756/756 [==============================] - 2s 2ms/step - loss: 0.8825 - mse: 0.8825 - val_loss: 0.9022 - val_mse: 0.9022\n",
            "Epoch 8/10\n",
            "756/756 [==============================] - 2s 2ms/step - loss: 0.8813 - mse: 0.8813 - val_loss: 0.9101 - val_mse: 0.9101\n",
            "Epoch 9/10\n",
            "756/756 [==============================] - 2s 2ms/step - loss: 0.8814 - mse: 0.8814 - val_loss: 0.8983 - val_mse: 0.8983\n",
            "Epoch 10/10\n",
            "756/756 [==============================] - 2s 2ms/step - loss: 0.8808 - mse: 0.8808 - val_loss: 0.8956 - val_mse: 0.8956\n"
          ]
        }
      ]
    },
    {
      "cell_type": "code",
      "source": [
        "plt.plot(r.history['loss'], label=\"train loss\")\n",
        "plt.plot(r.history['val_loss'], label=\"test loss\")\n",
        "plt.legend()\n",
        "plt.show()"
      ],
      "metadata": {
        "colab": {
          "base_uri": "https://localhost:8080/",
          "height": 265
        },
        "id": "VRef-sy9Q2Rt",
        "outputId": "8fa30029-6ca1-4e6a-ce12-dacb679f69a1"
      },
      "execution_count": null,
      "outputs": [
        {
          "output_type": "display_data",
          "data": {
            "text/plain": [
              "<Figure size 432x288 with 1 Axes>"
            ],
            "image/png": "[encoded data removed]"
          },
          "metadata": {
            "needs_background": "light"
          }
        }
      ]
    }
  ]
}