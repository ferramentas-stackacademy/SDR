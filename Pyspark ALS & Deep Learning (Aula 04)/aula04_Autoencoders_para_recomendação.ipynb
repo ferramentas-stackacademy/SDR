{
  "nbformat": 4,
  "nbformat_minor": 0,
  "metadata": {
    "colab": {
      "provenance": []
    },
    "kernelspec": {
      "name": "python3",
      "display_name": "Python 3"
    },
    "language_info": {
      "name": "python"
    }
  },
  "cells": [
    {
      "cell_type": "markdown",
      "source": [
        "[AutoRec: Autoencoders Meet Collaborative Filtering](https://users.cecs.anu.edu.au/~akmenon/papers/autorec/autorec-paper.pdf)"
      ],
      "metadata": {
        "id": "LoJBKy2lSsD7"
      }
    },
    {
      "cell_type": "code",
      "source": [
        "!sudo pip install -U future -q"
      ],
      "metadata": {
        "id": "uDq9bhL9XfiY"
      },
      "execution_count": null,
      "outputs": []
    },
    {
      "cell_type": "code",
      "source": [
        "from __future__ import print_function, division\n",
        "from builtins import range, input\n",
        "\n",
        "import numpy as np\n",
        "import pandas as pd\n",
        "import matplotlib.pyplot as plt\n",
        "from sklearn.utils import shuffle\n",
        "from scipy.sparse import save_npz, load_npz\n",
        "\n",
        "import keras.backend as K\n",
        "from keras.models import Model\n",
        "from keras.layers import Input, Dropout, Dense\n",
        "from keras.regularizers import l2\n",
        "from keras.optimizers import SGD\n",
        "\n",
        "from scipy.sparse import lil_matrix, csr_matrix, save_npz, load_npz"
      ],
      "metadata": {
        "id": "2Ox8Af--SzRz"
      },
      "execution_count": null,
      "outputs": []
    },
    {
      "cell_type": "code",
      "source": [
        "# load in the data\n",
        "df = pd.read_csv(\"/content/drive/MyDrive/recomendacao/ratings_small.csv\")"
      ],
      "metadata": {
        "id": "CKF06dsfX5cp"
      },
      "execution_count": null,
      "outputs": []
    },
    {
      "cell_type": "code",
      "source": [
        "N = df.userId.max() + 1 # number of users\n",
        "M = df.movieId.max() + 1 # number of movies\n",
        "\n",
        "# split into train and test\n",
        "df = shuffle(df)\n",
        "cutoff = int(0.8*len(df))\n",
        "df_train = df.iloc[:cutoff]\n",
        "df_test = df.iloc[cutoff:]\n",
        "\n",
        "A = lil_matrix((N, M))\n",
        "print(\"Calling: update_train\")\n",
        "count = 0\n",
        "def update_train(row):\n",
        "  global count\n",
        "  count += 1\n",
        "  if count % 100000 == 0:\n",
        "    print(\"processed: %.3f\" % (float(count)/cutoff))\n",
        "\n",
        "  i = int(row.userId)\n",
        "  j = int(row.movieId)\n",
        "  A[i,j] = row.rating\n",
        "df_train.apply(update_train, axis=1)\n",
        "\n",
        "# mask, to tell us which entries exist and which do not\n",
        "A = A.tocsr()\n",
        "mask = (A > 0)\n",
        "save_npz(\"Atrain.npz\", A)\n",
        "\n",
        "# test ratings dictionary\n",
        "A_test = lil_matrix((N, M))\n",
        "print(\"Calling: update_test\")\n",
        "count = 0\n",
        "def update_test(row):\n",
        "  global count\n",
        "  count += 1\n",
        "  if count % 100000 == 0:\n",
        "    print(\"processed: %.3f\" % (float(count)/len(df_test)))\n",
        "\n",
        "  i = int(row.userId)\n",
        "  j = int(row.movieId)\n",
        "  A_test[i,j] = row.rating\n",
        "df_test.apply(update_test, axis=1)\n",
        "A_test = A_test.tocsr()\n",
        "mask_test = (A_test > 0)\n",
        "save_npz(\"Atest.npz\", A_test)"
      ],
      "metadata": {
        "colab": {
          "base_uri": "https://localhost:8080/"
        },
        "id": "xljPJ30eYACw",
        "outputId": "29561cb6-e956-45aa-8679-04b5b5370f39"
      },
      "execution_count": null,
      "outputs": [
        {
          "output_type": "stream",
          "name": "stdout",
          "text": [
            "Calling: update_train\n",
            "Calling: update_test\n"
          ]
        }
      ]
    },
    {
      "cell_type": "code",
      "source": [
        "# config\n",
        "batch_size = 128\n",
        "epochs = 5\n",
        "reg = 0.0001\n",
        "# reg = 0\n",
        "\n",
        "A = load_npz(\"Atrain.npz\")\n",
        "A_test = load_npz(\"Atest.npz\")\n",
        "mask = (A > 0) * 1.0\n",
        "mask_test = (A_test > 0) * 1.0"
      ],
      "metadata": {
        "id": "Z1PK6adRXakh"
      },
      "execution_count": null,
      "outputs": []
    },
    {
      "cell_type": "code",
      "source": [
        "# make copies since we will shuffle\n",
        "A_copy = A.copy()\n",
        "mask_copy = mask.copy()\n",
        "A_test_copy = A_test.copy()\n",
        "mask_test_copy = mask_test.copy()\n",
        "\n",
        "N, M = A.shape\n",
        "print(\"N:\", N, \"M:\", M)\n",
        "print(\"N // batch_size:\", N // batch_size)"
      ],
      "metadata": {
        "colab": {
          "base_uri": "https://localhost:8080/"
        },
        "id": "EP3PdQPaXYyJ",
        "outputId": "04e5f226-d218-4597-b7d4-682015cf1a2f"
      },
      "execution_count": null,
      "outputs": [
        {
          "output_type": "stream",
          "name": "stdout",
          "text": [
            "N: 611 M: 193610\n",
            "N // batch_size: 4\n"
          ]
        }
      ]
    },
    {
      "cell_type": "code",
      "source": [
        "# center the data\n",
        "mu = A.sum() / mask.sum()\n",
        "print(\"mu:\", mu)"
      ],
      "metadata": {
        "colab": {
          "base_uri": "https://localhost:8080/"
        },
        "id": "niroyPr9XYLj",
        "outputId": "d21e6190-8d21-4517-adab-09b0a363c003"
      },
      "execution_count": null,
      "outputs": [
        {
          "output_type": "stream",
          "name": "stdout",
          "text": [
            "mu: 3.50324168195567\n"
          ]
        }
      ]
    },
    {
      "cell_type": "code",
      "source": [
        "# build the model - just a 1 hidden layer autoencoder\n",
        "i = Input(shape=(M,))\n",
        "# bigger hidden layer size seems to help!\n",
        "x = Dropout(0.7)(i)\n",
        "x = Dense(700, activation='tanh', kernel_regularizer=l2(reg))(x)\n",
        "# x = Dropout(0.5)(x)\n",
        "x = Dense(M, kernel_regularizer=l2(reg))(x)"
      ],
      "metadata": {
        "id": "cLJeY_dVXWlb"
      },
      "execution_count": null,
      "outputs": []
    },
    {
      "cell_type": "code",
      "source": [
        "#Criamos nosso autoencoder, no qual apenas vai tentar recriar sua entrada\n",
        "def custom_loss(y_true, y_pred):\n",
        "  mask = K.cast(K.not_equal(y_true, 0), dtype='float32')\n",
        "  diff = y_pred - y_true\n",
        "  sqdiff = diff * diff * mask\n",
        "  sse = K.sum(K.sum(sqdiff))\n",
        "  n = K.sum(K.sum(mask))\n",
        "  return sse / n"
      ],
      "metadata": {
        "id": "diiIPOjrXVK1"
      },
      "execution_count": null,
      "outputs": []
    },
    {
      "cell_type": "code",
      "source": [
        "def generator(A, M):\n",
        "  while True:\n",
        "    A, M = shuffle(A, M)\n",
        "    for i in range(A.shape[0] // batch_size + 1):\n",
        "      upper = min((i+1)*batch_size, A.shape[0])\n",
        "      a = A[i*batch_size:upper].toarray()\n",
        "      m = M[i*batch_size:upper].toarray()\n",
        "      a = a - mu * m \n",
        "      noisy = a \n",
        "      yield noisy, a"
      ],
      "metadata": {
        "id": "hnKkcjuxXTwC"
      },
      "execution_count": null,
      "outputs": []
    },
    {
      "cell_type": "code",
      "source": [
        "def test_generator(A, M, A_test, M_test):\n",
        "  # assumes A and A_test are in corresponding order\n",
        "  # both of size N x M\n",
        "  while True:\n",
        "    for i in range(A.shape[0] // batch_size + 1):\n",
        "      upper = min((i+1)*batch_size, A.shape[0])\n",
        "      a = A[i*batch_size:upper].toarray()\n",
        "      m = M[i*batch_size:upper].toarray()\n",
        "      at = A_test[i*batch_size:upper].toarray()\n",
        "      mt = M_test[i*batch_size:upper].toarray()\n",
        "      a = a - mu * m\n",
        "      at = at - mu * mt\n",
        "      yield a, at"
      ],
      "metadata": {
        "id": "AlC7k1j2XSli"
      },
      "execution_count": null,
      "outputs": []
    },
    {
      "cell_type": "code",
      "source": [
        "model = Model(i, x)\n",
        "model.compile(\n",
        "  loss=custom_loss,\n",
        "  optimizer=SGD(lr=0.08, momentum=0.9),\n",
        "  # optimizer='adam',\n",
        "  metrics=[custom_loss],\n",
        ")"
      ],
      "metadata": {
        "colab": {
          "base_uri": "https://localhost:8080/"
        },
        "id": "lt8hakaiXRXf",
        "outputId": "d546da45-dd55-4c22-90c3-b82c7cc53ecd"
      },
      "execution_count": null,
      "outputs": [
        {
          "output_type": "stream",
          "name": "stderr",
          "text": [
            "/usr/local/lib/python3.8/dist-packages/keras/optimizers/optimizer_v2/gradient_descent.py:108: UserWarning: The `lr` argument is deprecated, use `learning_rate` instead.\n",
            "  super(SGD, self).__init__(name, **kwargs)\n"
          ]
        }
      ]
    },
    {
      "cell_type": "code",
      "source": [
        "r = model.fit(\n",
        "  generator(A, mask),\n",
        "  validation_data=test_generator(A_copy, mask_copy, A_test_copy, mask_test_copy),\n",
        "  epochs=epochs,\n",
        "  steps_per_epoch=A.shape[0] // batch_size + 1,\n",
        "  validation_steps=A_test.shape[0] // batch_size + 1,\n",
        ")"
      ],
      "metadata": {
        "colab": {
          "base_uri": "https://localhost:8080/"
        },
        "id": "fSelf4iDXPBE",
        "outputId": "1bb5fa88-8b36-40e5-f5ff-0c9544ebd76b"
      },
      "execution_count": null,
      "outputs": [
        {
          "output_type": "stream",
          "name": "stdout",
          "text": [
            "Epoch 1/5\n",
            "5/5 [==============================] - 43s 8s/step - loss: 1.3714 - custom_loss: 1.0976 - val_loss: 1.3559 - val_custom_loss: 1.0803\n",
            "Epoch 2/5\n",
            "5/5 [==============================] - 42s 9s/step - loss: 1.3642 - custom_loss: 1.0851 - val_loss: 1.3542 - val_custom_loss: 1.0788\n",
            "Epoch 3/5\n",
            "5/5 [==============================] - 37s 8s/step - loss: 1.3625 - custom_loss: 1.0800 - val_loss: 1.3518 - val_custom_loss: 1.0768\n",
            "Epoch 4/5\n",
            "5/5 [==============================] - 36s 8s/step - loss: 1.3578 - custom_loss: 1.0783 - val_loss: 1.3491 - val_custom_loss: 1.0744\n",
            "Epoch 5/5\n",
            "5/5 [==============================] - 36s 8s/step - loss: 1.3442 - custom_loss: 1.0647 - val_loss: 1.3457 - val_custom_loss: 1.0715\n"
          ]
        }
      ]
    },
    {
      "cell_type": "code",
      "source": [
        "print(r.history.keys())"
      ],
      "metadata": {
        "colab": {
          "base_uri": "https://localhost:8080/"
        },
        "id": "rjMc9uyLXQHC",
        "outputId": "42b0d473-7e01-4d25-93e4-752ea7ff1fbd"
      },
      "execution_count": null,
      "outputs": [
        {
          "output_type": "stream",
          "name": "stdout",
          "text": [
            "dict_keys(['loss', 'custom_loss', 'val_loss', 'val_custom_loss'])\n"
          ]
        }
      ]
    },
    {
      "cell_type": "code",
      "source": [
        "# plot losses\n",
        "plt.plot(r.history['loss'], label=\"train loss\")\n",
        "plt.plot(r.history['val_loss'], label=\"test loss\")\n",
        "plt.legend()\n",
        "plt.show()"
      ],
      "metadata": {
        "colab": {
          "base_uri": "https://localhost:8080/",
          "height": 265
        },
        "id": "9xM3J7QpXLRY",
        "outputId": "268fe97c-c7d9-4abc-e4d3-f9a88dba4f81"
      },
      "execution_count": null,
      "outputs": [
        {
          "output_type": "display_data",
          "data": {
            "text/plain": [
              "<Figure size 432x288 with 1 Axes>"
            ],
            "image/png": "[encoded data removed]"
          },
          "metadata": {
            "needs_background": "light"
          }
        }
      ]
    },
    {
      "cell_type": "code",
      "source": [
        "# plot mse\n",
        "plt.plot(r.history['custom_loss'], label=\"train mse\")\n",
        "plt.plot(r.history['val_custom_loss'], label=\"test mse\")\n",
        "plt.legend()\n",
        "plt.show()"
      ],
      "metadata": {
        "colab": {
          "base_uri": "https://localhost:8080/",
          "height": 265
        },
        "id": "vkx36DIUXL7L",
        "outputId": "83b33995-e7c7-4f60-8373-cd8208863200"
      },
      "execution_count": null,
      "outputs": [
        {
          "output_type": "display_data",
          "data": {
            "text/plain": [
              "<Figure size 432x288 with 1 Axes>"
            ],
            "image/png": "[encoded data removed]"
          },
          "metadata": {
            "needs_background": "light"
          }
        }
      ]
    }
  ]
}