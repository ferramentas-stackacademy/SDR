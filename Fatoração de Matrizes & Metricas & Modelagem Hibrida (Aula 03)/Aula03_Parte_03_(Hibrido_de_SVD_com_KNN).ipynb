{
  "nbformat": 4,
  "nbformat_minor": 0,
  "metadata": {
    "colab": {
      "provenance": []
    },
    "kernelspec": {
      "name": "python3",
      "display_name": "Python 3"
    },
    "language_info": {
      "name": "python"
    }
  },
  "cells": [
    {
      "cell_type": "markdown",
      "source": [
        "Este exemplo usa o pacote Surprise para construir um modelo baseado em modelo usando o algoritmo SVD (Singular Value Decomposition) e o pacote sklearn para construir um modelo baseado em memória usando o algoritmo NearestNeighbors. Ele então combina as recomendações dos dois modelos para fornecer uma lista final de recomendações ao usuário."
      ],
      "metadata": {
        "id": "Tmc9YzJVjeuf"
      }
    },
    {
      "cell_type": "code",
      "source": [
        "!pip install surprise -q"
      ],
      "metadata": {
        "id": "PPBfvAtduw40"
      },
      "execution_count": null,
      "outputs": []
    },
    {
      "cell_type": "code",
      "execution_count": null,
      "metadata": {
        "id": "HnR5xqTijW6l"
      },
      "outputs": [],
      "source": [
        "import pandas as pd\n",
        "from surprise import SVD\n",
        "from sklearn.neighbors import NearestNeighbors\n",
        "from surprise.model_selection import train_test_split"
      ]
    },
    {
      "cell_type": "code",
      "source": [
        "from surprise import Reader, Dataset, KNNWithMeans"
      ],
      "metadata": {
        "id": "P2lWi1iO5UiE"
      },
      "execution_count": null,
      "outputs": []
    },
    {
      "cell_type": "code",
      "source": [
        "# Carregando dados de avaliações de filmes\n",
        "ratings = pd.read_csv(\"/content/drive/MyDrive/recomendacao/ratings_small.csv\")"
      ],
      "metadata": {
        "id": "C48WZbkrD-n1"
      },
      "execution_count": null,
      "outputs": []
    },
    {
      "cell_type": "code",
      "source": [
        "#data = Dataset.load_from_file('ratings.csv', reader=Reader(line_format='user item rating', sep=','))"
      ],
      "metadata": {
        "id": "RXq43CCN8Wi8"
      },
      "execution_count": null,
      "outputs": []
    },
    {
      "cell_type": "code",
      "source": [
        "reader = Reader(rating_scale=(0, 5))\n",
        "data = Dataset.load_from_df(ratings[['userId', 'movieId', 'rating']], reader)\n",
        "trainset, testset = train_test_split(data, test_size=0.25)"
      ],
      "metadata": {
        "id": "RnJHQuxT5dX2"
      },
      "execution_count": null,
      "outputs": []
    },
    {
      "cell_type": "markdown",
      "source": [
        "Neste exemplo, primeiro os dados de avaliações são carregados do arquivo CSV e são configurados para o objeto Reader. Em seguida, os dados de avaliações são carregados para o objeto Dataset para serem utilizados pelos algoritmos de CF. Depois, os dados são divididos em conjunto de treinamento e teste para avaliar o desempenho do modelo. O modelo baseado em memória (KNN) é treinado usando o método fit e suas previsões são obtidas com o método test. Finalmente, o desempenho do modelo é avaliado usando o erro quadrático médio (MSE). O mesmo"
      ],
      "metadata": {
        "id": "_ZOp6XxU-phR"
      }
    },
    {
      "cell_type": "code",
      "source": [
        "# Treine o modelo de CF baseado em memória (KNN)\n",
        "algo_knn = KNNWithMeans(k=30, sim_options={'name': 'pearson', 'user_based': False})\n",
        "algo_knn.fit(trainset)\n",
        "\n",
        "# Obtenha as previsões para o conjunto de teste\n",
        "test_pred = algo_knn.test(testset)\n",
        "\n",
        "# Avalie o desempenho do modelo com o erro quadrático médio (MSE)\n",
        "from surprise import accuracy\n",
        "acc = accuracy.rmse(test_pred)\n",
        "print(\"O erro quadrático médio do modelo baseado em memória é:\", acc)\n",
        "\n",
        "# Treine o modelo de CF baseado em modelo (SVD)\n",
        "from surprise import SVD\n",
        "algo_svd = SVD()\n",
        "algo_svd.fit(trainset)\n",
        "\n",
        "# Obtenha as previsões para o conjunto de teste\n",
        "test_pred = algo_svd.test(testset)\n",
        "\n",
        "# Avalie o desempenho do modelo com o erro quadrático médio (MSE)\n",
        "acc = accuracy.rmse(test_pred)\n",
        "print(\"O erro quadrático médio do modelo baseado em modelo é:\", acc)"
      ],
      "metadata": {
        "colab": {
          "base_uri": "https://localhost:8080/"
        },
        "id": "tX5Yn14x-YPn",
        "outputId": "2572cd60-d565-4c7b-c348-89b6fdb3e9e5"
      },
      "execution_count": null,
      "outputs": [
        {
          "output_type": "stream",
          "name": "stdout",
          "text": [
            "Computing the pearson similarity matrix...\n",
            "Done computing similarity matrix.\n",
            "RMSE: 0.9064\n",
            "O erro quadrático médio do modelo baseado em memória é: 0.9064406741610493\n",
            "RMSE: 0.8655\n",
            "O erro quadrático médio do modelo baseado em modelo é: 0.8655297078450244\n"
          ]
        }
      ]
    },
    {
      "cell_type": "code",
      "source": [
        "# Obter previsões para um usuário dado\n",
        "user_id = 1\n",
        "movie_id = 6\n",
        "knn_predictions = algo_knn.predict(user_id, 20)\n",
        "svd_predictions = algo_svd.predict(user_id, 20)"
      ],
      "metadata": {
        "id": "R356HmSu-g6Y"
      },
      "execution_count": null,
      "outputs": []
    },
    {
      "cell_type": "code",
      "source": [
        "svd_predictions.est"
      ],
      "metadata": {
        "colab": {
          "base_uri": "https://localhost:8080/"
        },
        "id": "D2VnY7Eg_4HL",
        "outputId": "0f0d401a-c390-4c9e-ccdd-cdcde6aff53c"
      },
      "execution_count": null,
      "outputs": [
        {
          "output_type": "execute_result",
          "data": {
            "text/plain": [
              "3.661834629137796"
            ]
          },
          "metadata": {},
          "execution_count": 54
        }
      ]
    },
    {
      "cell_type": "code",
      "source": [
        "knn_predictions.est"
      ],
      "metadata": {
        "colab": {
          "base_uri": "https://localhost:8080/"
        },
        "id": "TCjgnoe0AFdW",
        "outputId": "ddaaaed9-513f-4396-9710-b7570901ee6d"
      },
      "execution_count": null,
      "outputs": [
        {
          "output_type": "execute_result",
          "data": {
            "text/plain": [
              "3.2214834517835094"
            ]
          },
          "metadata": {},
          "execution_count": 55
        }
      ]
    },
    {
      "cell_type": "code",
      "source": [
        "user_1 = ratings.query(\"userId == 1\")"
      ],
      "metadata": {
        "id": "KuKOSEfsOA83"
      },
      "execution_count": null,
      "outputs": []
    },
    {
      "cell_type": "code",
      "source": [
        "user_1.query(\"movieId == 6\")"
      ],
      "metadata": {
        "colab": {
          "base_uri": "https://localhost:8080/",
          "height": 80
        },
        "id": "p4DYj7jhOLF4",
        "outputId": "cd96a735-0a93-4b57-9073-c622f43f53b6"
      },
      "execution_count": null,
      "outputs": [
        {
          "output_type": "execute_result",
          "data": {
            "text/plain": [
              "   userId  movieId  rating  timestamp\n",
              "2       1        6     4.0  964982224"
            ],
            "text/html": [
              "\n",
              "  <div id=\"df-6c7b5159-9451-457c-9c14-3ffbac2afc4f\">\n",
              "    <div class=\"colab-df-container\">\n",
              "      <div>\n",
              "<style scoped>\n",
              "    .dataframe tbody tr th:only-of-type {\n",
              "        vertical-align: middle;\n",
              "    }\n",
              "\n",
              "    .dataframe tbody tr th {\n",
              "        vertical-align: top;\n",
              "    }\n",
              "\n",
              "    .dataframe thead th {\n",
              "        text-align: right;\n",
              "    }\n",
              "</style>\n",
              "<table border=\"1\" class=\"dataframe\">\n",
              "  <thead>\n",
              "    <tr style=\"text-align: right;\">\n",
              "      <th></th>\n",
              "      <th>userId</th>\n",
              "      <th>movieId</th>\n",
              "      <th>rating</th>\n",
              "      <th>timestamp</th>\n",
              "    </tr>\n",
              "  </thead>\n",
              "  <tbody>\n",
              "    <tr>\n",
              "      <th>2</th>\n",
              "      <td>1</td>\n",
              "      <td>6</td>\n",
              "      <td>4.0</td>\n",
              "      <td>964982224</td>\n",
              "    </tr>\n",
              "  </tbody>\n",
              "</table>\n",
              "</div>\n",
              "      <button class=\"colab-df-convert\" onclick=\"convertToInteractive('df-6c7b5159-9451-457c-9c14-3ffbac2afc4f')\"\n",
              "              title=\"Convert this dataframe to an interactive table.\"\n",
              "              style=\"display:none;\">\n",
              "        \n",
              "  <svg xmlns=\"http://www.w3.org/2000/svg\" height=\"24px\"viewBox=\"0 0 24 24\"\n",
              "       width=\"24px\">\n",
              "    <path d=\"M0 0h24v24H0V0z\" fill=\"none\"/>\n",
              "    <path d=\"M18.56 5.44l.94 2.06.94-2.06 2.06-.94-2.06-.94-.94-2.06-.94 2.06-2.06.94zm-11 1L8.5 8.5l.94-2.06 2.06-.94-2.06-.94L8.5 2.5l-.94 2.06-2.06.94zm10 10l.94 2.06.94-2.06 2.06-.94-2.06-.94-.94-2.06-.94 2.06-2.06.94z\"/><path d=\"M17.41 7.96l-1.37-1.37c-.4-.4-.92-.59-1.43-.59-.52 0-1.04.2-1.43.59L10.3 9.45l-7.72 7.72c-.78.78-.78 2.05 0 2.83L4 21.41c.39.39.9.59 1.41.59.51 0 1.02-.2 1.41-.59l7.78-7.78 2.81-2.81c.8-.78.8-2.07 0-2.86zM5.41 20L4 18.59l7.72-7.72 1.47 1.35L5.41 20z\"/>\n",
              "  </svg>\n",
              "      </button>\n",
              "      \n",
              "  <style>\n",
              "    .colab-df-container {\n",
              "      display:flex;\n",
              "      flex-wrap:wrap;\n",
              "      gap: 12px;\n",
              "    }\n",
              "\n",
              "    .colab-df-convert {\n",
              "      background-color: #E8F0FE;\n",
              "      border: none;\n",
              "      border-radius: 50%;\n",
              "      cursor: pointer;\n",
              "      display: none;\n",
              "      fill: #1967D2;\n",
              "      height: 32px;\n",
              "      padding: 0 0 0 0;\n",
              "      width: 32px;\n",
              "    }\n",
              "\n",
              "    .colab-df-convert:hover {\n",
              "      background-color: #E2EBFA;\n",
              "      box-shadow: 0px 1px 2px rgba(60, 64, 67, 0.3), 0px 1px 3px 1px rgba(60, 64, 67, 0.15);\n",
              "      fill: #174EA6;\n",
              "    }\n",
              "\n",
              "    [theme=dark] .colab-df-convert {\n",
              "      background-color: #3B4455;\n",
              "      fill: #D2E3FC;\n",
              "    }\n",
              "\n",
              "    [theme=dark] .colab-df-convert:hover {\n",
              "      background-color: #434B5C;\n",
              "      box-shadow: 0px 1px 3px 1px rgba(0, 0, 0, 0.15);\n",
              "      filter: drop-shadow(0px 1px 2px rgba(0, 0, 0, 0.3));\n",
              "      fill: #FFFFFF;\n",
              "    }\n",
              "  </style>\n",
              "\n",
              "      <script>\n",
              "        const buttonEl =\n",
              "          document.querySelector('#df-6c7b5159-9451-457c-9c14-3ffbac2afc4f button.colab-df-convert');\n",
              "        buttonEl.style.display =\n",
              "          google.colab.kernel.accessAllowed ? 'block' : 'none';\n",
              "\n",
              "        async function convertToInteractive(key) {\n",
              "          const element = document.querySelector('#df-6c7b5159-9451-457c-9c14-3ffbac2afc4f');\n",
              "          const dataTable =\n",
              "            await google.colab.kernel.invokeFunction('convertToInteractive',\n",
              "                                                     [key], {});\n",
              "          if (!dataTable) return;\n",
              "\n",
              "          const docLinkHtml = 'Like what you see? Visit the ' +\n",
              "            '<a target=\"_blank\" href=https://colab.research.google.com/notebooks/data_table.ipynb>data table notebook</a>'\n",
              "            + ' to learn more about interactive tables.';\n",
              "          element.innerHTML = '';\n",
              "          dataTable['output_type'] = 'display_data';\n",
              "          await google.colab.output.renderOutput(dataTable, element);\n",
              "          const docLink = document.createElement('div');\n",
              "          docLink.innerHTML = docLinkHtml;\n",
              "          element.appendChild(docLink);\n",
              "        }\n",
              "      </script>\n",
              "    </div>\n",
              "  </div>\n",
              "  "
            ]
          },
          "metadata": {},
          "execution_count": 50
        }
      ]
    },
    {
      "cell_type": "code",
      "source": [
        "# Combinar as previsões usando média ponderada\n",
        "weighted_predictions = (knn_predictions.est * 0.7) + (svd_predictions.est * 0.3)"
      ],
      "metadata": {
        "id": "XJWGvGBz_1D4"
      },
      "execution_count": null,
      "outputs": []
    },
    {
      "cell_type": "code",
      "source": [
        "weighted_predictions"
      ],
      "metadata": {
        "colab": {
          "base_uri": "https://localhost:8080/"
        },
        "id": "GQSed6utA0m7",
        "outputId": "0d3a31e1-0bcd-484d-e5e7-4b479f407fba"
      },
      "execution_count": null,
      "outputs": [
        {
          "output_type": "execute_result",
          "data": {
            "text/plain": [
              "3.353588804989795"
            ]
          },
          "metadata": {},
          "execution_count": 57
        }
      ]
    },
    {
      "cell_type": "markdown",
      "source": [
        "## Para Vários Filmes"
      ],
      "metadata": {
        "id": "xlTPHjswCUH3"
      }
    },
    {
      "cell_type": "code",
      "source": [
        "# Obtendo previsões para um usuário dado\n",
        "user_id = 1\n",
        "movie_ids = [1, 2, 47, 4, 5]\n",
        "predictions_knn = [algo_knn.predict(user_id, movie_id, verbose=False).est for movie_id in movie_ids]\n",
        "predictions_svd = [algo_svd.predict(user_id, movie_id, verbose=False).est for movie_id in movie_ids]"
      ],
      "metadata": {
        "id": "bvmTitLBA0JI"
      },
      "execution_count": null,
      "outputs": []
    },
    {
      "cell_type": "code",
      "source": [
        "predictions_knn"
      ],
      "metadata": {
        "colab": {
          "base_uri": "https://localhost:8080/"
        },
        "id": "b7C-QRnUBF9j",
        "outputId": "16d295a7-2cec-46bf-cdc3-a980e3e1ed2b"
      },
      "execution_count": null,
      "outputs": [
        {
          "output_type": "execute_result",
          "data": {
            "text/plain": [
              "[4.7042166497262965,\n",
              " 4.317587480648559,\n",
              " 4.803595113315072,\n",
              " 2.8627918152601604,\n",
              " 4.218906910155301]"
            ]
          },
          "metadata": {},
          "execution_count": 59
        }
      ]
    },
    {
      "cell_type": "code",
      "source": [
        "predictions_svd"
      ],
      "metadata": {
        "colab": {
          "base_uri": "https://localhost:8080/"
        },
        "id": "CRTEJZoFjLD-",
        "outputId": "43265d10-624d-481a-e5d6-585b8e0a0959"
      },
      "execution_count": null,
      "outputs": [
        {
          "output_type": "execute_result",
          "data": {
            "text/plain": [
              "[4.600946839409213,\n",
              " 4.20854812050185,\n",
              " 4.603107240536228,\n",
              " 4.079283416926583,\n",
              " 3.8422926572228455]"
            ]
          },
          "metadata": {},
          "execution_count": 60
        }
      ]
    },
    {
      "cell_type": "code",
      "source": [
        "weighted_predictions = [(knn_predictions * 0.7) + (svd_predictions * 0.3) for knn_predictions,svd_predictions in zip(predictions_knn, predictions_svd)]"
      ],
      "metadata": {
        "id": "wWfMgh4rBaVd"
      },
      "execution_count": null,
      "outputs": []
    },
    {
      "cell_type": "code",
      "source": [
        "weighted_predictions"
      ],
      "metadata": {
        "colab": {
          "base_uri": "https://localhost:8080/"
        },
        "id": "YmJoOL-cBjdL",
        "outputId": "d2890ca2-42f3-4786-8ffc-1e273890b70f"
      },
      "execution_count": null,
      "outputs": [
        {
          "output_type": "execute_result",
          "data": {
            "text/plain": [
              "[4.673235706631171,\n",
              " 4.284875672604546,\n",
              " 4.743448751481418,\n",
              " 3.2277392957600872,\n",
              " 4.105922634275564]"
            ]
          },
          "metadata": {},
          "execution_count": 62
        }
      ]
    },
    {
      "cell_type": "code",
      "source": [
        "my_recs = []\n",
        "for iid in movie_ids:\n",
        "  predictions_knn = algo_knn.predict(user_id, iid, verbose=False).est \n",
        "  predictions_svd = algo_svd.predict(user_id, iid, verbose=False).est \n",
        "  weighted_predictions = (knn_predictions.est * 0.7) + (svd_predictions.est * 0.3) \n",
        "  my_recs.append((iid, weighted_predictions, predictions_svd, predictions_knn))\n",
        "\n",
        "pd.DataFrame(my_recs, columns=['iid', 'weighted predictions', \"svd\", \"knn\"]).sort_values('weighted predictions', ascending=False).head(10)"
      ],
      "metadata": {
        "colab": {
          "base_uri": "https://localhost:8080/",
          "height": 206
        },
        "id": "nlY7iyO0CEcQ",
        "outputId": "f3ac7886-4f3c-4633-c7c2-2ea3e4825c88"
      },
      "execution_count": null,
      "outputs": [
        {
          "output_type": "execute_result",
          "data": {
            "text/plain": [
              "   iid  weighted predictions       svd       knn\n",
              "0    1              3.353589  4.600947  4.704217\n",
              "1    2              3.353589  4.208548  4.317587\n",
              "2   47              3.353589  4.603107  4.803595\n",
              "3    4              3.353589  4.079283  2.862792\n",
              "4    5              3.353589  3.842293  4.218907"
            ],
            "text/html": [
              "\n",
              "  <div id=\"df-ba61ad07-b4d5-40e2-a9e3-85322ed0b533\">\n",
              "    <div class=\"colab-df-container\">\n",
              "      <div>\n",
              "<style scoped>\n",
              "    .dataframe tbody tr th:only-of-type {\n",
              "        vertical-align: middle;\n",
              "    }\n",
              "\n",
              "    .dataframe tbody tr th {\n",
              "        vertical-align: top;\n",
              "    }\n",
              "\n",
              "    .dataframe thead th {\n",
              "        text-align: right;\n",
              "    }\n",
              "</style>\n",
              "<table border=\"1\" class=\"dataframe\">\n",
              "  <thead>\n",
              "    <tr style=\"text-align: right;\">\n",
              "      <th></th>\n",
              "      <th>iid</th>\n",
              "      <th>weighted predictions</th>\n",
              "      <th>svd</th>\n",
              "      <th>knn</th>\n",
              "    </tr>\n",
              "  </thead>\n",
              "  <tbody>\n",
              "    <tr>\n",
              "      <th>0</th>\n",
              "      <td>1</td>\n",
              "      <td>3.353589</td>\n",
              "      <td>4.600947</td>\n",
              "      <td>4.704217</td>\n",
              "    </tr>\n",
              "    <tr>\n",
              "      <th>1</th>\n",
              "      <td>2</td>\n",
              "      <td>3.353589</td>\n",
              "      <td>4.208548</td>\n",
              "      <td>4.317587</td>\n",
              "    </tr>\n",
              "    <tr>\n",
              "      <th>2</th>\n",
              "      <td>47</td>\n",
              "      <td>3.353589</td>\n",
              "      <td>4.603107</td>\n",
              "      <td>4.803595</td>\n",
              "    </tr>\n",
              "    <tr>\n",
              "      <th>3</th>\n",
              "      <td>4</td>\n",
              "      <td>3.353589</td>\n",
              "      <td>4.079283</td>\n",
              "      <td>2.862792</td>\n",
              "    </tr>\n",
              "    <tr>\n",
              "      <th>4</th>\n",
              "      <td>5</td>\n",
              "      <td>3.353589</td>\n",
              "      <td>3.842293</td>\n",
              "      <td>4.218907</td>\n",
              "    </tr>\n",
              "  </tbody>\n",
              "</table>\n",
              "</div>\n",
              "      <button class=\"colab-df-convert\" onclick=\"convertToInteractive('df-ba61ad07-b4d5-40e2-a9e3-85322ed0b533')\"\n",
              "              title=\"Convert this dataframe to an interactive table.\"\n",
              "              style=\"display:none;\">\n",
              "        \n",
              "  <svg xmlns=\"http://www.w3.org/2000/svg\" height=\"24px\"viewBox=\"0 0 24 24\"\n",
              "       width=\"24px\">\n",
              "    <path d=\"M0 0h24v24H0V0z\" fill=\"none\"/>\n",
              "    <path d=\"M18.56 5.44l.94 2.06.94-2.06 2.06-.94-2.06-.94-.94-2.06-.94 2.06-2.06.94zm-11 1L8.5 8.5l.94-2.06 2.06-.94-2.06-.94L8.5 2.5l-.94 2.06-2.06.94zm10 10l.94 2.06.94-2.06 2.06-.94-2.06-.94-.94-2.06-.94 2.06-2.06.94z\"/><path d=\"M17.41 7.96l-1.37-1.37c-.4-.4-.92-.59-1.43-.59-.52 0-1.04.2-1.43.59L10.3 9.45l-7.72 7.72c-.78.78-.78 2.05 0 2.83L4 21.41c.39.39.9.59 1.41.59.51 0 1.02-.2 1.41-.59l7.78-7.78 2.81-2.81c.8-.78.8-2.07 0-2.86zM5.41 20L4 18.59l7.72-7.72 1.47 1.35L5.41 20z\"/>\n",
              "  </svg>\n",
              "      </button>\n",
              "      \n",
              "  <style>\n",
              "    .colab-df-container {\n",
              "      display:flex;\n",
              "      flex-wrap:wrap;\n",
              "      gap: 12px;\n",
              "    }\n",
              "\n",
              "    .colab-df-convert {\n",
              "      background-color: #E8F0FE;\n",
              "      border: none;\n",
              "      border-radius: 50%;\n",
              "      cursor: pointer;\n",
              "      display: none;\n",
              "      fill: #1967D2;\n",
              "      height: 32px;\n",
              "      padding: 0 0 0 0;\n",
              "      width: 32px;\n",
              "    }\n",
              "\n",
              "    .colab-df-convert:hover {\n",
              "      background-color: #E2EBFA;\n",
              "      box-shadow: 0px 1px 2px rgba(60, 64, 67, 0.3), 0px 1px 3px 1px rgba(60, 64, 67, 0.15);\n",
              "      fill: #174EA6;\n",
              "    }\n",
              "\n",
              "    [theme=dark] .colab-df-convert {\n",
              "      background-color: #3B4455;\n",
              "      fill: #D2E3FC;\n",
              "    }\n",
              "\n",
              "    [theme=dark] .colab-df-convert:hover {\n",
              "      background-color: #434B5C;\n",
              "      box-shadow: 0px 1px 3px 1px rgba(0, 0, 0, 0.15);\n",
              "      filter: drop-shadow(0px 1px 2px rgba(0, 0, 0, 0.3));\n",
              "      fill: #FFFFFF;\n",
              "    }\n",
              "  </style>\n",
              "\n",
              "      <script>\n",
              "        const buttonEl =\n",
              "          document.querySelector('#df-ba61ad07-b4d5-40e2-a9e3-85322ed0b533 button.colab-df-convert');\n",
              "        buttonEl.style.display =\n",
              "          google.colab.kernel.accessAllowed ? 'block' : 'none';\n",
              "\n",
              "        async function convertToInteractive(key) {\n",
              "          const element = document.querySelector('#df-ba61ad07-b4d5-40e2-a9e3-85322ed0b533');\n",
              "          const dataTable =\n",
              "            await google.colab.kernel.invokeFunction('convertToInteractive',\n",
              "                                                     [key], {});\n",
              "          if (!dataTable) return;\n",
              "\n",
              "          const docLinkHtml = 'Like what you see? Visit the ' +\n",
              "            '<a target=\"_blank\" href=https://colab.research.google.com/notebooks/data_table.ipynb>data table notebook</a>'\n",
              "            + ' to learn more about interactive tables.';\n",
              "          element.innerHTML = '';\n",
              "          dataTable['output_type'] = 'display_data';\n",
              "          await google.colab.output.renderOutput(dataTable, element);\n",
              "          const docLink = document.createElement('div');\n",
              "          docLink.innerHTML = docLinkHtml;\n",
              "          element.appendChild(docLink);\n",
              "        }\n",
              "      </script>\n",
              "    </div>\n",
              "  </div>\n",
              "  "
            ]
          },
          "metadata": {},
          "execution_count": 63
        }
      ]
    },
    {
      "cell_type": "markdown",
      "source": [
        "## Usando Robust SVD"
      ],
      "metadata": {
        "id": "RqDSnH_UI05R"
      }
    },
    {
      "cell_type": "code",
      "source": [
        "from sklearn.decomposition import TruncatedSVD\n",
        "from sklearn.cluster import KMeans\n",
        "\n",
        "# Carregue sua matriz de avaliações de filmes\n",
        "ratings_matrix = ...\n",
        "\n",
        "# Decomponha a matriz usando o SVD\n",
        "svd = TruncatedSVD(n_components=100)\n",
        "U = svd.fit_transform(ratings_matrix)\n",
        "\n",
        "# Agrupe os usuários usando o k-means\n",
        "kmeans = KMeans(n_clusters=5)\n",
        "user_groups = kmeans.fit_predict(U)\n",
        "\n",
        "# Faça recomendações personalizadas para cada grupo de usuários\n",
        "for group in range(5):\n",
        "    group_users = np.where(user_groups == group)\n",
        "    group_movies = ratings_matrix[group_users].mean(axis=0) \n",
        "    recommended_movies = np.argsort(-group_movies)[:10]\n",
        "    print(\"Recomendações para o grupo {}: {}\".format(group, recommended_movies))"
      ],
      "metadata": {
        "id": "rlI66bIRCkF2"
      },
      "execution_count": null,
      "outputs": []
    }
  ]
}